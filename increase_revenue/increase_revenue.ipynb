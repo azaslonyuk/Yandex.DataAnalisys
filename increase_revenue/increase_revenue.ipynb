{
 "cells": [
  {
   "cell_type": "markdown",
   "metadata": {},
   "source": [
    "#  Описание проекта\n",
    "<a id=\"defenition\"></a>\n",
    "Проверка гипотез для увеличения выручки инет магазина. Анализ гипотез с использованием фреймворков ICE и RICE. Анализ оезультатов A/B теста. "
   ]
  },
  {
   "cell_type": "markdown",
   "metadata": {},
   "source": [
    "\n",
    "1. [Описание проекта](#defenition)\n",
    "\n",
    "\n",
    "2. [Открытие исходных данных](#start)\n",
    "\n",
    "\n",
    "3. [Изучение данных](#preprocessing)  \n",
    "\n",
    "\n",
    "4. [Изучение гипотез](#hypotesys)\n",
    "\n",
    "\n",
    "5. [Анализ А/В теста](#analysis)\n",
    "    * 5.1 [График кумулятивной выручки по группам](#step1)\n",
    "    * 5.2 [График кумулятивного среднего чека по группам](#step2)\n",
    "    * 5.3 [График относительного изменения кумулятивного среднего чека группы B к группе A](#step3)\n",
    "    * 5.4 [График кумулятивной конверсии по группам](#step4)\n",
    "    * 5.5 [График относительного изменения кумулятивной конверсии группы B к группе A](#step5)\n",
    "    * 5.6 [График количества заказов по пользователям](#step6)\n",
    "    * 5.7 [Расчет 95-го и 99-го перцентилей количества заказов на пользователя](#step7)\n",
    "    * 5.8 [График стоимостей заказов](#step8)\n",
    "    * 5.9 [Расчет 95-го и 99-го перцентилей стоимости заказов](#step9)\n",
    "    * 5.10 [Расчет статистической значимости различий в конверсии между группами по «сырым» данным](#step10)\n",
    "    * 5.11 [Расчет статистической значимости различий в среднем чеке заказа между группами по «сырым» данным](#step11)\n",
    "    * 5.12 [Расчет статистической значимости различий в конверсии между группами по «очищенным» данным](#step12)\n",
    "    * 5.13 [Расчет статистической значимости различий в среднем чеке заказа между группами по «очищенным» данным](#step13)\n",
    "    * 5.14 [Графики конверсии, среднего чека и кумулятивной выручки по \"чистым\" данным](#step14)\n",
    "\n",
    "\n",
    "5. [Заключение. Общий вывод](#resume)"
   ]
  },
  {
   "cell_type": "markdown",
   "metadata": {},
   "source": [
    "*Гипотезы*\n",
    "\n",
    "* __``Hypothesis``__ — *краткое описание гипотезы;*\n",
    "* __``Reach``__ — *охват пользователей по 10-балльной шкале;*\n",
    "* __``Impact``__ — *влияние на пользователей по 10-балльной шкале;*\n",
    "* __``Confidence``__ — *уверенность в гипотезе по 10-балльной шкале;*\n",
    "* __``Efforts``__ — *затраты ресурсов на проверку гипотезы по 10-балльной шкале. Чем больше значение Efforts, тем дороже проверка гипотезы.*\n",
    "\n",
    "*Заказы*\n",
    "\n",
    "* __``transactionId``__ — *идентификатор заказа;*\n",
    "* __``visitorId``__ — *идентификатор пользователя, совершившего заказ;*\n",
    "* __``date``__ — *дата, когда был совершён заказ;*\n",
    "* __``revenue``__ — *выручка заказа;*\n",
    "* __``group``__ — *группа A/B-теста, в которую попал заказ.*\n",
    "\n",
    "*Пользователи*\n",
    "\n",
    "* __``date``__ — *дата;*\n",
    "* __``group``__ — *группа A/B-теста;*\n",
    "* __``visitors``__ — *количество пользователей в указанную дату в указанной группе A/B-теста*"
   ]
  },
  {
   "cell_type": "markdown",
   "metadata": {},
   "source": [
    "# Открытие исходных даных\n",
    "<a id=\"start\"></a>"
   ]
  },
  {
   "cell_type": "code",
   "execution_count": 1,
   "metadata": {},
   "outputs": [],
   "source": [
    "#pip install pandas_profiling"
   ]
  },
  {
   "cell_type": "code",
   "execution_count": 2,
   "metadata": {},
   "outputs": [],
   "source": [
    "import pandas as pd\n",
    "import datetime as dt\n",
    "import numpy as np\n",
    "import matplotlib.pyplot as plt\n",
    "import seaborn as sns\n",
    "from pandas_profiling import ProfileReport\n",
    "import scipy.stats as st\n",
    "from scipy.stats import mannwhitneyu"
   ]
  },
  {
   "cell_type": "code",
   "execution_count": 3,
   "metadata": {},
   "outputs": [],
   "source": [
    "# открываем датасеты\n",
    "try:\n",
    "    hypothesis = pd.read_csv('d:/Home/datasets/hypothesis.csv')\n",
    "    orders = pd.read_csv('d:/Home/datasets/orders.csv')\n",
    "    visitors = pd.read_csv('d:/Home/datasets/visitors.csv')\n",
    "except:\n",
    "    hypothesis = pd.read_csv('/datasets/hypothesis.csv')\n",
    "    orders = pd.read_csv('/datasets/orders.csv')\n",
    "    visitors = pd.read_csv('/datasets/visitors.csv')"
   ]
  },
  {
   "cell_type": "code",
   "execution_count": 4,
   "metadata": {},
   "outputs": [],
   "source": [
    "# настройки\n",
    "pd.set_option('max_rows', 8)\n",
    "pd.set_option('display.max_colwidth', None)\n",
    "pd.set_option('display.float_format', '{:.2f}'.format)\n",
    "#pd.reset_option\n",
    "plt.rcParams[\"figure.figsize\"] = (8,5)\n",
    "plt.rcParams[\"figure.dpi\"] = 90\n",
    "alpha = 0.05"
   ]
  },
  {
   "cell_type": "markdown",
   "metadata": {},
   "source": [
    "<a class=\"anchor\" id=\"11-bullet\">"
   ]
  },
  {
   "cell_type": "markdown",
   "metadata": {},
   "source": [
    "# Изучение, предобработка\n",
    "<a id=\"preprocessing\"></a>"
   ]
  },
  {
   "cell_type": "code",
   "execution_count": 5,
   "metadata": {},
   "outputs": [
    {
     "data": {
      "text/html": [
       "<div>\n",
       "<style scoped>\n",
       "    .dataframe tbody tr th:only-of-type {\n",
       "        vertical-align: middle;\n",
       "    }\n",
       "\n",
       "    .dataframe tbody tr th {\n",
       "        vertical-align: top;\n",
       "    }\n",
       "\n",
       "    .dataframe thead th {\n",
       "        text-align: right;\n",
       "    }\n",
       "</style>\n",
       "<table border=\"1\" class=\"dataframe\">\n",
       "  <thead>\n",
       "    <tr style=\"text-align: right;\">\n",
       "      <th></th>\n",
       "      <th>transactionId</th>\n",
       "      <th>visitorId</th>\n",
       "      <th>date</th>\n",
       "      <th>revenue</th>\n",
       "      <th>group</th>\n",
       "    </tr>\n",
       "  </thead>\n",
       "  <tbody>\n",
       "    <tr>\n",
       "      <th>41</th>\n",
       "      <td>2594268419</td>\n",
       "      <td>237748145</td>\n",
       "      <td>2019-08-15</td>\n",
       "      <td>1090</td>\n",
       "      <td>A</td>\n",
       "    </tr>\n",
       "    <tr>\n",
       "      <th>433</th>\n",
       "      <td>3312757456</td>\n",
       "      <td>994339272</td>\n",
       "      <td>2019-08-24</td>\n",
       "      <td>5770</td>\n",
       "      <td>A</td>\n",
       "    </tr>\n",
       "    <tr>\n",
       "      <th>504</th>\n",
       "      <td>2541233311</td>\n",
       "      <td>4027578749</td>\n",
       "      <td>2019-08-25</td>\n",
       "      <td>2590</td>\n",
       "      <td>A</td>\n",
       "    </tr>\n",
       "  </tbody>\n",
       "</table>\n",
       "</div>"
      ],
      "text/plain": [
       "     transactionId   visitorId        date  revenue group\n",
       "41      2594268419   237748145  2019-08-15     1090     A\n",
       "433     3312757456   994339272  2019-08-24     5770     A\n",
       "504     2541233311  4027578749  2019-08-25     2590     A"
      ]
     },
     "execution_count": 5,
     "metadata": {},
     "output_type": "execute_result"
    }
   ],
   "source": [
    "# общий вид\n",
    "orders.sample(3)"
   ]
  },
  {
   "cell_type": "code",
   "execution_count": 6,
   "metadata": {},
   "outputs": [
    {
     "name": "stdout",
     "output_type": "stream",
     "text": [
      "<class 'pandas.core.frame.DataFrame'>\n",
      "RangeIndex: 1197 entries, 0 to 1196\n",
      "Data columns (total 5 columns):\n",
      " #   Column         Non-Null Count  Dtype \n",
      "---  ------         --------------  ----- \n",
      " 0   transactionId  1197 non-null   int64 \n",
      " 1   visitorId      1197 non-null   int64 \n",
      " 2   date           1197 non-null   object\n",
      " 3   revenue        1197 non-null   int64 \n",
      " 4   group          1197 non-null   object\n",
      "dtypes: int64(3), object(2)\n",
      "memory usage: 46.9+ KB\n"
     ]
    }
   ],
   "source": [
    "# типы\n",
    "orders.info()"
   ]
  },
  {
   "cell_type": "code",
   "execution_count": 7,
   "metadata": {},
   "outputs": [
    {
     "data": {
      "text/plain": [
       "transactionId    0\n",
       "visitorId        0\n",
       "date             0\n",
       "revenue          0\n",
       "group            0\n",
       "dtype: int64"
      ]
     },
     "execution_count": 7,
     "metadata": {},
     "output_type": "execute_result"
    }
   ],
   "source": [
    "# Имеются ли пропуски\n",
    "orders.isnull().sum()"
   ]
  },
  {
   "cell_type": "code",
   "execution_count": 8,
   "metadata": {},
   "outputs": [
    {
     "data": {
      "text/plain": [
       "0"
      ]
     },
     "execution_count": 8,
     "metadata": {},
     "output_type": "execute_result"
    }
   ],
   "source": [
    "# Имеются ли дубликаты\n",
    "orders.duplicated().sum()"
   ]
  },
  {
   "cell_type": "code",
   "execution_count": 9,
   "metadata": {},
   "outputs": [
    {
     "data": {
      "text/html": [
       "<div>\n",
       "<style scoped>\n",
       "    .dataframe tbody tr th:only-of-type {\n",
       "        vertical-align: middle;\n",
       "    }\n",
       "\n",
       "    .dataframe tbody tr th {\n",
       "        vertical-align: top;\n",
       "    }\n",
       "\n",
       "    .dataframe thead th {\n",
       "        text-align: right;\n",
       "    }\n",
       "</style>\n",
       "<table border=\"1\" class=\"dataframe\">\n",
       "  <thead>\n",
       "    <tr style=\"text-align: right;\">\n",
       "      <th></th>\n",
       "      <th>transactionId</th>\n",
       "      <th>visitorId</th>\n",
       "      <th>revenue</th>\n",
       "    </tr>\n",
       "  </thead>\n",
       "  <tbody>\n",
       "    <tr>\n",
       "      <th>count</th>\n",
       "      <td>1197.00</td>\n",
       "      <td>1197.00</td>\n",
       "      <td>1197.00</td>\n",
       "    </tr>\n",
       "    <tr>\n",
       "      <th>mean</th>\n",
       "      <td>2155621385.53</td>\n",
       "      <td>2165960143.10</td>\n",
       "      <td>8348.01</td>\n",
       "    </tr>\n",
       "    <tr>\n",
       "      <th>std</th>\n",
       "      <td>1229084904.76</td>\n",
       "      <td>1236014192.15</td>\n",
       "      <td>39191.13</td>\n",
       "    </tr>\n",
       "    <tr>\n",
       "      <th>min</th>\n",
       "      <td>1062393.00</td>\n",
       "      <td>5114589.00</td>\n",
       "      <td>50.00</td>\n",
       "    </tr>\n",
       "    <tr>\n",
       "      <th>25%</th>\n",
       "      <td>1166775572.00</td>\n",
       "      <td>1111826046.00</td>\n",
       "      <td>1220.00</td>\n",
       "    </tr>\n",
       "    <tr>\n",
       "      <th>50%</th>\n",
       "      <td>2145193898.00</td>\n",
       "      <td>2217984702.00</td>\n",
       "      <td>2978.00</td>\n",
       "    </tr>\n",
       "    <tr>\n",
       "      <th>75%</th>\n",
       "      <td>3237740112.00</td>\n",
       "      <td>3177606451.00</td>\n",
       "      <td>8290.00</td>\n",
       "    </tr>\n",
       "    <tr>\n",
       "      <th>max</th>\n",
       "      <td>4293855558.00</td>\n",
       "      <td>4283872382.00</td>\n",
       "      <td>1294500.00</td>\n",
       "    </tr>\n",
       "  </tbody>\n",
       "</table>\n",
       "</div>"
      ],
      "text/plain": [
       "       transactionId     visitorId    revenue\n",
       "count        1197.00       1197.00    1197.00\n",
       "mean   2155621385.53 2165960143.10    8348.01\n",
       "std    1229084904.76 1236014192.15   39191.13\n",
       "min       1062393.00    5114589.00      50.00\n",
       "25%    1166775572.00 1111826046.00    1220.00\n",
       "50%    2145193898.00 2217984702.00    2978.00\n",
       "75%    3237740112.00 3177606451.00    8290.00\n",
       "max    4293855558.00 4283872382.00 1294500.00"
      ]
     },
     "execution_count": 9,
     "metadata": {},
     "output_type": "execute_result"
    }
   ],
   "source": [
    "# статистика\n",
    "orders.describe()"
   ]
  },
  {
   "cell_type": "markdown",
   "metadata": {},
   "source": [
    "profile = ProfileReport(orders, title='Pandas Profiling Report')\n",
    "profile.to_widgets()"
   ]
  },
  {
   "cell_type": "markdown",
   "metadata": {},
   "source": [
    "Дубликатов, пропуков нет. Имеются очень сильные  забросы. 75% покупателей совершают покупку на суму не более 9 000. ТОлько 5% покупают на сумму более 28 000"
   ]
  },
  {
   "cell_type": "markdown",
   "metadata": {},
   "source": [
    "profile = ProfileReport(visitors, title='Pandas Profiling Report')\n",
    "profile.to_widgets()"
   ]
  },
  {
   "cell_type": "code",
   "execution_count": 10,
   "metadata": {},
   "outputs": [
    {
     "data": {
      "text/html": [
       "<div>\n",
       "<style scoped>\n",
       "    .dataframe tbody tr th:only-of-type {\n",
       "        vertical-align: middle;\n",
       "    }\n",
       "\n",
       "    .dataframe tbody tr th {\n",
       "        vertical-align: top;\n",
       "    }\n",
       "\n",
       "    .dataframe thead th {\n",
       "        text-align: right;\n",
       "    }\n",
       "</style>\n",
       "<table border=\"1\" class=\"dataframe\">\n",
       "  <thead>\n",
       "    <tr style=\"text-align: right;\">\n",
       "      <th></th>\n",
       "      <th>date</th>\n",
       "      <th>group</th>\n",
       "      <th>visitors</th>\n",
       "    </tr>\n",
       "  </thead>\n",
       "  <tbody>\n",
       "    <tr>\n",
       "      <th>28</th>\n",
       "      <td>2019-08-29</td>\n",
       "      <td>A</td>\n",
       "      <td>577</td>\n",
       "    </tr>\n",
       "    <tr>\n",
       "      <th>37</th>\n",
       "      <td>2019-08-07</td>\n",
       "      <td>B</td>\n",
       "      <td>709</td>\n",
       "    </tr>\n",
       "    <tr>\n",
       "      <th>38</th>\n",
       "      <td>2019-08-08</td>\n",
       "      <td>B</td>\n",
       "      <td>654</td>\n",
       "    </tr>\n",
       "  </tbody>\n",
       "</table>\n",
       "</div>"
      ],
      "text/plain": [
       "          date group  visitors\n",
       "28  2019-08-29     A       577\n",
       "37  2019-08-07     B       709\n",
       "38  2019-08-08     B       654"
      ]
     },
     "execution_count": 10,
     "metadata": {},
     "output_type": "execute_result"
    }
   ],
   "source": [
    "# общий вид\n",
    "visitors.sample(3)"
   ]
  },
  {
   "cell_type": "code",
   "execution_count": 11,
   "metadata": {},
   "outputs": [
    {
     "name": "stdout",
     "output_type": "stream",
     "text": [
      "<class 'pandas.core.frame.DataFrame'>\n",
      "RangeIndex: 62 entries, 0 to 61\n",
      "Data columns (total 3 columns):\n",
      " #   Column    Non-Null Count  Dtype \n",
      "---  ------    --------------  ----- \n",
      " 0   date      62 non-null     object\n",
      " 1   group     62 non-null     object\n",
      " 2   visitors  62 non-null     int64 \n",
      "dtypes: int64(1), object(2)\n",
      "memory usage: 1.6+ KB\n"
     ]
    }
   ],
   "source": [
    "# типы\n",
    "visitors.info()"
   ]
  },
  {
   "cell_type": "code",
   "execution_count": 12,
   "metadata": {},
   "outputs": [
    {
     "data": {
      "text/plain": [
       "date        0\n",
       "group       0\n",
       "visitors    0\n",
       "dtype: int64"
      ]
     },
     "execution_count": 12,
     "metadata": {},
     "output_type": "execute_result"
    }
   ],
   "source": [
    "# Имеются ли пропуски\n",
    "visitors.isnull().sum()"
   ]
  },
  {
   "cell_type": "code",
   "execution_count": 13,
   "metadata": {},
   "outputs": [
    {
     "data": {
      "text/plain": [
       "0"
      ]
     },
     "execution_count": 13,
     "metadata": {},
     "output_type": "execute_result"
    }
   ],
   "source": [
    "# Имеются ли дубликаты\n",
    "visitors.duplicated().sum()\n"
   ]
  },
  {
   "cell_type": "code",
   "execution_count": 14,
   "metadata": {},
   "outputs": [
    {
     "data": {
      "text/plain": [
       "31"
      ]
     },
     "execution_count": 14,
     "metadata": {},
     "output_type": "execute_result"
    }
   ],
   "source": [
    "visitors[visitors['group'] == \"A\"].shape[0]"
   ]
  },
  {
   "cell_type": "code",
   "execution_count": 15,
   "metadata": {},
   "outputs": [
    {
     "data": {
      "text/plain": [
       "31"
      ]
     },
     "execution_count": 15,
     "metadata": {},
     "output_type": "execute_result"
    }
   ],
   "source": [
    "visitors[visitors['group'] == \"B\"].shape[0]"
   ]
  },
  {
   "cell_type": "markdown",
   "metadata": {},
   "source": [
    "Дубликатов, забросов, пропусков нет. В каждой группе одинаковое количество уникальных пользователей."
   ]
  },
  {
   "cell_type": "markdown",
   "metadata": {},
   "source": [
    "##### Проверка данных на нормальность"
   ]
  },
  {
   "cell_type": "code",
   "execution_count": 16,
   "metadata": {},
   "outputs": [
    {
     "name": "stdout",
     "output_type": "stream",
     "text": [
      "Распределение группы А не нормально. p-значение:  1.739703399801917e-34\n"
     ]
    }
   ],
   "source": [
    "results = st.shapiro(orders[orders['group'] == \"A\"]['revenue'].tolist())\n",
    "p_value = results[1] \n",
    "\n",
    "if (p_value < alpha):\n",
    "    print(\"Распределение группы А не нормально. p-значение: \", p_value)\n",
    "else:\n",
    "    print(\"Распределение нормальное. p-значение: \", p_value) "
   ]
  },
  {
   "cell_type": "code",
   "execution_count": 17,
   "metadata": {},
   "outputs": [
    {
     "name": "stdout",
     "output_type": "stream",
     "text": [
      "Распределение группы B не нормально. p-значение:  0.0\n"
     ]
    }
   ],
   "source": [
    "results = st.shapiro(orders[orders['group'] == \"B\"]['revenue'].tolist())\n",
    "p_value = results[1] \n",
    "\n",
    "if (p_value < alpha):\n",
    "    print(\"Распределение группы B не нормально. p-значение: \", p_value)\n",
    "else:\n",
    "    print(\"Распределение нормальное. p-значение: \", p_value) "
   ]
  },
  {
   "cell_type": "markdown",
   "metadata": {},
   "source": [
    "\n",
    "Hулевая гипотеза - группы различны. Альтернативная - различий нет\n"
   ]
  },
  {
   "cell_type": "code",
   "execution_count": 18,
   "metadata": {},
   "outputs": [
    {
     "name": "stdout",
     "output_type": "stream",
     "text": [
      "Не получилось отвергнуть нулевую гипотезу, вывод о различии групп А и В сделать нельзя. 'p-значение:  0.7292909855432458\n"
     ]
    }
   ],
   "source": [
    "# Hулевая гипотеза - группы различны. \n",
    "sample_A = orders[orders['group'] == \"A\"]['revenue'].values.tolist()\n",
    "sample_B = orders[orders['group'] == \"B\"]['revenue'].values.tolist()\n",
    "#results = st.mannwhitneyu(sample_A, sample_B)\n",
    "\n",
    "stat, p  = mannwhitneyu(sample_A, sample_B,  alternative='two-sided')                                                  \n",
    "                                                                                                             \n",
    "\n",
    "if (p < alpha):\n",
    "    print(\"Отвергаем нулевую гипотезу: разница групп статистически значима. 'p-значение: \", p)\n",
    "else:\n",
    "    print(\"Не получилось отвергнуть нулевую гипотезу, вывод о различии групп А и В сделать нельзя. 'p-значение: \", p) "
   ]
  },
  {
   "cell_type": "markdown",
   "metadata": {},
   "source": [
    "Выборки групп А и В по стоимости покупок на сырых данных не имеют нормального распределения, но статистически группы не имеют различия"
   ]
  },
  {
   "cell_type": "markdown",
   "metadata": {},
   "source": [
    "# Изучение гипотез\n",
    "<a id=\"hypotesys\"></a>"
   ]
  },
  {
   "cell_type": "code",
   "execution_count": 19,
   "metadata": {},
   "outputs": [
    {
     "data": {
      "text/html": [
       "<div>\n",
       "<style scoped>\n",
       "    .dataframe tbody tr th:only-of-type {\n",
       "        vertical-align: middle;\n",
       "    }\n",
       "\n",
       "    .dataframe tbody tr th {\n",
       "        vertical-align: top;\n",
       "    }\n",
       "\n",
       "    .dataframe thead th {\n",
       "        text-align: right;\n",
       "    }\n",
       "</style>\n",
       "<table border=\"1\" class=\"dataframe\">\n",
       "  <thead>\n",
       "    <tr style=\"text-align: right;\">\n",
       "      <th></th>\n",
       "      <th>Hypothesis</th>\n",
       "      <th>Reach</th>\n",
       "      <th>Impact</th>\n",
       "      <th>Confidence</th>\n",
       "      <th>Efforts</th>\n",
       "    </tr>\n",
       "  </thead>\n",
       "  <tbody>\n",
       "    <tr>\n",
       "      <th>0</th>\n",
       "      <td>Добавить два новых канала привлечения трафика, что позволит привлекать на 30% больше пользователей</td>\n",
       "      <td>3</td>\n",
       "      <td>10</td>\n",
       "      <td>8</td>\n",
       "      <td>6</td>\n",
       "    </tr>\n",
       "    <tr>\n",
       "      <th>1</th>\n",
       "      <td>Запустить собственную службу доставки, что сократит срок доставки заказов</td>\n",
       "      <td>2</td>\n",
       "      <td>5</td>\n",
       "      <td>4</td>\n",
       "      <td>10</td>\n",
       "    </tr>\n",
       "    <tr>\n",
       "      <th>2</th>\n",
       "      <td>Добавить блоки рекомендаций товаров на сайт интернет магазина, чтобы повысить конверсию и средний чек заказа</td>\n",
       "      <td>8</td>\n",
       "      <td>3</td>\n",
       "      <td>7</td>\n",
       "      <td>3</td>\n",
       "    </tr>\n",
       "  </tbody>\n",
       "</table>\n",
       "</div>"
      ],
      "text/plain": [
       "                                                                                                     Hypothesis  \\\n",
       "0            Добавить два новых канала привлечения трафика, что позволит привлекать на 30% больше пользователей   \n",
       "1                                     Запустить собственную службу доставки, что сократит срок доставки заказов   \n",
       "2  Добавить блоки рекомендаций товаров на сайт интернет магазина, чтобы повысить конверсию и средний чек заказа   \n",
       "\n",
       "   Reach  Impact  Confidence  Efforts  \n",
       "0      3      10           8        6  \n",
       "1      2       5           4       10  \n",
       "2      8       3           7        3  "
      ]
     },
     "execution_count": 19,
     "metadata": {},
     "output_type": "execute_result"
    }
   ],
   "source": [
    "hypothesis[:3]"
   ]
  },
  {
   "cell_type": "markdown",
   "metadata": {},
   "source": [
    "\n",
    "\n",
    "Расчет по формулам\n",
    "\n",
    "<br>\n",
    "\n",
    "$$ICE = \\frac{Impact * Confidence}{Efforts}$$\n",
    "\n",
    "$$RICE = \\frac{Rearch * Impact * Confidence}{Efforts}$$\n",
    "</div>\n"
   ]
  },
  {
   "cell_type": "code",
   "execution_count": 20,
   "metadata": {},
   "outputs": [],
   "source": [
    "hypothesis['ICE'] = hypothesis['Impact'] * hypothesis['Confidence'] / hypothesis['Efforts']\n",
    "hypothesis['RICE'] = hypothesis['Reach'] * hypothesis['ICE']"
   ]
  },
  {
   "cell_type": "code",
   "execution_count": 21,
   "metadata": {},
   "outputs": [],
   "source": [
    "numeric_columns = ['ICE','RICE']\n",
    "string_columns = ['Hypothesis']"
   ]
  },
  {
   "cell_type": "code",
   "execution_count": 22,
   "metadata": {},
   "outputs": [],
   "source": [
    "#hypothesis.sort_values(by='ICE', ascending=False) "
   ]
  },
  {
   "cell_type": "markdown",
   "metadata": {},
   "source": [
    "Сортировка по убыванию ICE"
   ]
  },
  {
   "cell_type": "code",
   "execution_count": 23,
   "metadata": {},
   "outputs": [
    {
     "data": {
      "text/html": [
       "<style  type=\"text/css\" >\n",
       "#T_5fa2b_row0_col0,#T_5fa2b_row1_col0,#T_5fa2b_row2_col0,#T_5fa2b_row3_col0,#T_5fa2b_row4_col0,#T_5fa2b_row5_col0,#T_5fa2b_row6_col0,#T_5fa2b_row7_col0,#T_5fa2b_row8_col0{\n",
       "            text-align:  left;\n",
       "        }#T_5fa2b_row0_col5,#T_5fa2b_row2_col6{\n",
       "            background-color:  yellowgreen;\n",
       "        }#T_5fa2b_row8_col5,#T_5fa2b_row8_col6{\n",
       "            background-color:  coral;\n",
       "        }</style><table id=\"T_5fa2b_\" ><thead>    <tr>        <th class=\"blank level0\" ></th>        <th class=\"col_heading level0 col0\" >Hypothesis</th>        <th class=\"col_heading level0 col1\" >Reach</th>        <th class=\"col_heading level0 col2\" >Impact</th>        <th class=\"col_heading level0 col3\" >Confidence</th>        <th class=\"col_heading level0 col4\" >Efforts</th>        <th class=\"col_heading level0 col5\" >ICE</th>        <th class=\"col_heading level0 col6\" >RICE</th>    </tr></thead><tbody>\n",
       "                <tr>\n",
       "                        <th id=\"T_5fa2b_level0_row0\" class=\"row_heading level0 row0\" >8</th>\n",
       "                        <td id=\"T_5fa2b_row0_col0\" class=\"data row0 col0\" >Запустить акцию, дающую скидку на товар в день рождения</td>\n",
       "                        <td id=\"T_5fa2b_row0_col1\" class=\"data row0 col1\" >1</td>\n",
       "                        <td id=\"T_5fa2b_row0_col2\" class=\"data row0 col2\" >9</td>\n",
       "                        <td id=\"T_5fa2b_row0_col3\" class=\"data row0 col3\" >9</td>\n",
       "                        <td id=\"T_5fa2b_row0_col4\" class=\"data row0 col4\" >5</td>\n",
       "                        <td id=\"T_5fa2b_row0_col5\" class=\"data row0 col5\" >16.200000</td>\n",
       "                        <td id=\"T_5fa2b_row0_col6\" class=\"data row0 col6\" >16.200000</td>\n",
       "            </tr>\n",
       "            <tr>\n",
       "                        <th id=\"T_5fa2b_level0_row1\" class=\"row_heading level0 row1\" >0</th>\n",
       "                        <td id=\"T_5fa2b_row1_col0\" class=\"data row1 col0\" >Добавить два новых канала привлечения трафика, что позволит привлекать на 30% больше пользователей</td>\n",
       "                        <td id=\"T_5fa2b_row1_col1\" class=\"data row1 col1\" >3</td>\n",
       "                        <td id=\"T_5fa2b_row1_col2\" class=\"data row1 col2\" >10</td>\n",
       "                        <td id=\"T_5fa2b_row1_col3\" class=\"data row1 col3\" >8</td>\n",
       "                        <td id=\"T_5fa2b_row1_col4\" class=\"data row1 col4\" >6</td>\n",
       "                        <td id=\"T_5fa2b_row1_col5\" class=\"data row1 col5\" >13.333333</td>\n",
       "                        <td id=\"T_5fa2b_row1_col6\" class=\"data row1 col6\" >40.000000</td>\n",
       "            </tr>\n",
       "            <tr>\n",
       "                        <th id=\"T_5fa2b_level0_row2\" class=\"row_heading level0 row2\" >7</th>\n",
       "                        <td id=\"T_5fa2b_row2_col0\" class=\"data row2 col0\" >Добавить форму подписки на все основные страницы, чтобы собрать базу клиентов для email-рассылок</td>\n",
       "                        <td id=\"T_5fa2b_row2_col1\" class=\"data row2 col1\" >10</td>\n",
       "                        <td id=\"T_5fa2b_row2_col2\" class=\"data row2 col2\" >7</td>\n",
       "                        <td id=\"T_5fa2b_row2_col3\" class=\"data row2 col3\" >8</td>\n",
       "                        <td id=\"T_5fa2b_row2_col4\" class=\"data row2 col4\" >5</td>\n",
       "                        <td id=\"T_5fa2b_row2_col5\" class=\"data row2 col5\" >11.200000</td>\n",
       "                        <td id=\"T_5fa2b_row2_col6\" class=\"data row2 col6\" >112.000000</td>\n",
       "            </tr>\n",
       "            <tr>\n",
       "                        <th id=\"T_5fa2b_level0_row3\" class=\"row_heading level0 row3\" >6</th>\n",
       "                        <td id=\"T_5fa2b_row3_col0\" class=\"data row3 col0\" >Показать на главной странице баннеры с актуальными акциями и распродажами, чтобы увеличить конверсию</td>\n",
       "                        <td id=\"T_5fa2b_row3_col1\" class=\"data row3 col1\" >5</td>\n",
       "                        <td id=\"T_5fa2b_row3_col2\" class=\"data row3 col2\" >3</td>\n",
       "                        <td id=\"T_5fa2b_row3_col3\" class=\"data row3 col3\" >8</td>\n",
       "                        <td id=\"T_5fa2b_row3_col4\" class=\"data row3 col4\" >3</td>\n",
       "                        <td id=\"T_5fa2b_row3_col5\" class=\"data row3 col5\" >8.000000</td>\n",
       "                        <td id=\"T_5fa2b_row3_col6\" class=\"data row3 col6\" >40.000000</td>\n",
       "            </tr>\n",
       "            <tr>\n",
       "                        <th id=\"T_5fa2b_level0_row4\" class=\"row_heading level0 row4\" >2</th>\n",
       "                        <td id=\"T_5fa2b_row4_col0\" class=\"data row4 col0\" >Добавить блоки рекомендаций товаров на сайт интернет магазина, чтобы повысить конверсию и средний чек заказа</td>\n",
       "                        <td id=\"T_5fa2b_row4_col1\" class=\"data row4 col1\" >8</td>\n",
       "                        <td id=\"T_5fa2b_row4_col2\" class=\"data row4 col2\" >3</td>\n",
       "                        <td id=\"T_5fa2b_row4_col3\" class=\"data row4 col3\" >7</td>\n",
       "                        <td id=\"T_5fa2b_row4_col4\" class=\"data row4 col4\" >3</td>\n",
       "                        <td id=\"T_5fa2b_row4_col5\" class=\"data row4 col5\" >7.000000</td>\n",
       "                        <td id=\"T_5fa2b_row4_col6\" class=\"data row4 col6\" >56.000000</td>\n",
       "            </tr>\n",
       "            <tr>\n",
       "                        <th id=\"T_5fa2b_level0_row5\" class=\"row_heading level0 row5\" >1</th>\n",
       "                        <td id=\"T_5fa2b_row5_col0\" class=\"data row5 col0\" >Запустить собственную службу доставки, что сократит срок доставки заказов</td>\n",
       "                        <td id=\"T_5fa2b_row5_col1\" class=\"data row5 col1\" >2</td>\n",
       "                        <td id=\"T_5fa2b_row5_col2\" class=\"data row5 col2\" >5</td>\n",
       "                        <td id=\"T_5fa2b_row5_col3\" class=\"data row5 col3\" >4</td>\n",
       "                        <td id=\"T_5fa2b_row5_col4\" class=\"data row5 col4\" >10</td>\n",
       "                        <td id=\"T_5fa2b_row5_col5\" class=\"data row5 col5\" >2.000000</td>\n",
       "                        <td id=\"T_5fa2b_row5_col6\" class=\"data row5 col6\" >4.000000</td>\n",
       "            </tr>\n",
       "            <tr>\n",
       "                        <th id=\"T_5fa2b_level0_row6\" class=\"row_heading level0 row6\" >5</th>\n",
       "                        <td id=\"T_5fa2b_row6_col0\" class=\"data row6 col0\" >Добавить страницу отзывов клиентов о магазине, что позволит увеличить количество заказов</td>\n",
       "                        <td id=\"T_5fa2b_row6_col1\" class=\"data row6 col1\" >3</td>\n",
       "                        <td id=\"T_5fa2b_row6_col2\" class=\"data row6 col2\" >2</td>\n",
       "                        <td id=\"T_5fa2b_row6_col3\" class=\"data row6 col3\" >2</td>\n",
       "                        <td id=\"T_5fa2b_row6_col4\" class=\"data row6 col4\" >3</td>\n",
       "                        <td id=\"T_5fa2b_row6_col5\" class=\"data row6 col5\" >1.333333</td>\n",
       "                        <td id=\"T_5fa2b_row6_col6\" class=\"data row6 col6\" >4.000000</td>\n",
       "            </tr>\n",
       "            <tr>\n",
       "                        <th id=\"T_5fa2b_level0_row7\" class=\"row_heading level0 row7\" >3</th>\n",
       "                        <td id=\"T_5fa2b_row7_col0\" class=\"data row7 col0\" >Изменить структура категорий, что увеличит конверсию, т.к. пользователи быстрее найдут нужный товар</td>\n",
       "                        <td id=\"T_5fa2b_row7_col1\" class=\"data row7 col1\" >8</td>\n",
       "                        <td id=\"T_5fa2b_row7_col2\" class=\"data row7 col2\" >3</td>\n",
       "                        <td id=\"T_5fa2b_row7_col3\" class=\"data row7 col3\" >3</td>\n",
       "                        <td id=\"T_5fa2b_row7_col4\" class=\"data row7 col4\" >8</td>\n",
       "                        <td id=\"T_5fa2b_row7_col5\" class=\"data row7 col5\" >1.125000</td>\n",
       "                        <td id=\"T_5fa2b_row7_col6\" class=\"data row7 col6\" >9.000000</td>\n",
       "            </tr>\n",
       "            <tr>\n",
       "                        <th id=\"T_5fa2b_level0_row8\" class=\"row_heading level0 row8\" >4</th>\n",
       "                        <td id=\"T_5fa2b_row8_col0\" class=\"data row8 col0\" >Изменить цвет фона главной страницы, чтобы увеличить вовлеченность пользователей</td>\n",
       "                        <td id=\"T_5fa2b_row8_col1\" class=\"data row8 col1\" >3</td>\n",
       "                        <td id=\"T_5fa2b_row8_col2\" class=\"data row8 col2\" >1</td>\n",
       "                        <td id=\"T_5fa2b_row8_col3\" class=\"data row8 col3\" >1</td>\n",
       "                        <td id=\"T_5fa2b_row8_col4\" class=\"data row8 col4\" >1</td>\n",
       "                        <td id=\"T_5fa2b_row8_col5\" class=\"data row8 col5\" >1.000000</td>\n",
       "                        <td id=\"T_5fa2b_row8_col6\" class=\"data row8 col6\" >3.000000</td>\n",
       "            </tr>\n",
       "    </tbody></table>"
      ],
      "text/plain": [
       "<pandas.io.formats.style.Styler at 0x189ab95cb88>"
      ]
     },
     "execution_count": 23,
     "metadata": {},
     "output_type": "execute_result"
    }
   ],
   "source": [
    "# Подсветим минимум, максимум\n",
    "(hypothesis \\\n",
    "     .sort_values(by='ICE', ascending=False) \\\n",
    "     .style\\\n",
    "     .highlight_max(color='yellowgreen', subset=numeric_columns)\\\n",
    "     .highlight_min(color='coral', subset=numeric_columns) \\\n",
    "     .set_properties(**{'text-align': 'left'}, subset='Hypothesis'))\n"
   ]
  },
  {
   "cell_type": "markdown",
   "metadata": {},
   "source": [
    "Сортировка по убыванию RICE\n"
   ]
  },
  {
   "cell_type": "code",
   "execution_count": 24,
   "metadata": {},
   "outputs": [
    {
     "data": {
      "text/html": [
       "<style  type=\"text/css\" >\n",
       "#T_fc92a_row0_col0,#T_fc92a_row1_col0,#T_fc92a_row2_col0,#T_fc92a_row3_col0,#T_fc92a_row4_col0,#T_fc92a_row5_col0,#T_fc92a_row6_col0,#T_fc92a_row7_col0,#T_fc92a_row8_col0{\n",
       "            text-align:  left;\n",
       "        }#T_fc92a_row0_col6,#T_fc92a_row4_col5{\n",
       "            background-color:  yellowgreen;\n",
       "        }#T_fc92a_row8_col5,#T_fc92a_row8_col6{\n",
       "            background-color:  coral;\n",
       "        }</style><table id=\"T_fc92a_\" ><thead>    <tr>        <th class=\"blank level0\" ></th>        <th class=\"col_heading level0 col0\" >Hypothesis</th>        <th class=\"col_heading level0 col1\" >Reach</th>        <th class=\"col_heading level0 col2\" >Impact</th>        <th class=\"col_heading level0 col3\" >Confidence</th>        <th class=\"col_heading level0 col4\" >Efforts</th>        <th class=\"col_heading level0 col5\" >ICE</th>        <th class=\"col_heading level0 col6\" >RICE</th>    </tr></thead><tbody>\n",
       "                <tr>\n",
       "                        <th id=\"T_fc92a_level0_row0\" class=\"row_heading level0 row0\" >7</th>\n",
       "                        <td id=\"T_fc92a_row0_col0\" class=\"data row0 col0\" >Добавить форму подписки на все основные страницы, чтобы собрать базу клиентов для email-рассылок</td>\n",
       "                        <td id=\"T_fc92a_row0_col1\" class=\"data row0 col1\" >10</td>\n",
       "                        <td id=\"T_fc92a_row0_col2\" class=\"data row0 col2\" >7</td>\n",
       "                        <td id=\"T_fc92a_row0_col3\" class=\"data row0 col3\" >8</td>\n",
       "                        <td id=\"T_fc92a_row0_col4\" class=\"data row0 col4\" >5</td>\n",
       "                        <td id=\"T_fc92a_row0_col5\" class=\"data row0 col5\" >11.200000</td>\n",
       "                        <td id=\"T_fc92a_row0_col6\" class=\"data row0 col6\" >112.000000</td>\n",
       "            </tr>\n",
       "            <tr>\n",
       "                        <th id=\"T_fc92a_level0_row1\" class=\"row_heading level0 row1\" >2</th>\n",
       "                        <td id=\"T_fc92a_row1_col0\" class=\"data row1 col0\" >Добавить блоки рекомендаций товаров на сайт интернет магазина, чтобы повысить конверсию и средний чек заказа</td>\n",
       "                        <td id=\"T_fc92a_row1_col1\" class=\"data row1 col1\" >8</td>\n",
       "                        <td id=\"T_fc92a_row1_col2\" class=\"data row1 col2\" >3</td>\n",
       "                        <td id=\"T_fc92a_row1_col3\" class=\"data row1 col3\" >7</td>\n",
       "                        <td id=\"T_fc92a_row1_col4\" class=\"data row1 col4\" >3</td>\n",
       "                        <td id=\"T_fc92a_row1_col5\" class=\"data row1 col5\" >7.000000</td>\n",
       "                        <td id=\"T_fc92a_row1_col6\" class=\"data row1 col6\" >56.000000</td>\n",
       "            </tr>\n",
       "            <tr>\n",
       "                        <th id=\"T_fc92a_level0_row2\" class=\"row_heading level0 row2\" >0</th>\n",
       "                        <td id=\"T_fc92a_row2_col0\" class=\"data row2 col0\" >Добавить два новых канала привлечения трафика, что позволит привлекать на 30% больше пользователей</td>\n",
       "                        <td id=\"T_fc92a_row2_col1\" class=\"data row2 col1\" >3</td>\n",
       "                        <td id=\"T_fc92a_row2_col2\" class=\"data row2 col2\" >10</td>\n",
       "                        <td id=\"T_fc92a_row2_col3\" class=\"data row2 col3\" >8</td>\n",
       "                        <td id=\"T_fc92a_row2_col4\" class=\"data row2 col4\" >6</td>\n",
       "                        <td id=\"T_fc92a_row2_col5\" class=\"data row2 col5\" >13.333333</td>\n",
       "                        <td id=\"T_fc92a_row2_col6\" class=\"data row2 col6\" >40.000000</td>\n",
       "            </tr>\n",
       "            <tr>\n",
       "                        <th id=\"T_fc92a_level0_row3\" class=\"row_heading level0 row3\" >6</th>\n",
       "                        <td id=\"T_fc92a_row3_col0\" class=\"data row3 col0\" >Показать на главной странице баннеры с актуальными акциями и распродажами, чтобы увеличить конверсию</td>\n",
       "                        <td id=\"T_fc92a_row3_col1\" class=\"data row3 col1\" >5</td>\n",
       "                        <td id=\"T_fc92a_row3_col2\" class=\"data row3 col2\" >3</td>\n",
       "                        <td id=\"T_fc92a_row3_col3\" class=\"data row3 col3\" >8</td>\n",
       "                        <td id=\"T_fc92a_row3_col4\" class=\"data row3 col4\" >3</td>\n",
       "                        <td id=\"T_fc92a_row3_col5\" class=\"data row3 col5\" >8.000000</td>\n",
       "                        <td id=\"T_fc92a_row3_col6\" class=\"data row3 col6\" >40.000000</td>\n",
       "            </tr>\n",
       "            <tr>\n",
       "                        <th id=\"T_fc92a_level0_row4\" class=\"row_heading level0 row4\" >8</th>\n",
       "                        <td id=\"T_fc92a_row4_col0\" class=\"data row4 col0\" >Запустить акцию, дающую скидку на товар в день рождения</td>\n",
       "                        <td id=\"T_fc92a_row4_col1\" class=\"data row4 col1\" >1</td>\n",
       "                        <td id=\"T_fc92a_row4_col2\" class=\"data row4 col2\" >9</td>\n",
       "                        <td id=\"T_fc92a_row4_col3\" class=\"data row4 col3\" >9</td>\n",
       "                        <td id=\"T_fc92a_row4_col4\" class=\"data row4 col4\" >5</td>\n",
       "                        <td id=\"T_fc92a_row4_col5\" class=\"data row4 col5\" >16.200000</td>\n",
       "                        <td id=\"T_fc92a_row4_col6\" class=\"data row4 col6\" >16.200000</td>\n",
       "            </tr>\n",
       "            <tr>\n",
       "                        <th id=\"T_fc92a_level0_row5\" class=\"row_heading level0 row5\" >3</th>\n",
       "                        <td id=\"T_fc92a_row5_col0\" class=\"data row5 col0\" >Изменить структура категорий, что увеличит конверсию, т.к. пользователи быстрее найдут нужный товар</td>\n",
       "                        <td id=\"T_fc92a_row5_col1\" class=\"data row5 col1\" >8</td>\n",
       "                        <td id=\"T_fc92a_row5_col2\" class=\"data row5 col2\" >3</td>\n",
       "                        <td id=\"T_fc92a_row5_col3\" class=\"data row5 col3\" >3</td>\n",
       "                        <td id=\"T_fc92a_row5_col4\" class=\"data row5 col4\" >8</td>\n",
       "                        <td id=\"T_fc92a_row5_col5\" class=\"data row5 col5\" >1.125000</td>\n",
       "                        <td id=\"T_fc92a_row5_col6\" class=\"data row5 col6\" >9.000000</td>\n",
       "            </tr>\n",
       "            <tr>\n",
       "                        <th id=\"T_fc92a_level0_row6\" class=\"row_heading level0 row6\" >1</th>\n",
       "                        <td id=\"T_fc92a_row6_col0\" class=\"data row6 col0\" >Запустить собственную службу доставки, что сократит срок доставки заказов</td>\n",
       "                        <td id=\"T_fc92a_row6_col1\" class=\"data row6 col1\" >2</td>\n",
       "                        <td id=\"T_fc92a_row6_col2\" class=\"data row6 col2\" >5</td>\n",
       "                        <td id=\"T_fc92a_row6_col3\" class=\"data row6 col3\" >4</td>\n",
       "                        <td id=\"T_fc92a_row6_col4\" class=\"data row6 col4\" >10</td>\n",
       "                        <td id=\"T_fc92a_row6_col5\" class=\"data row6 col5\" >2.000000</td>\n",
       "                        <td id=\"T_fc92a_row6_col6\" class=\"data row6 col6\" >4.000000</td>\n",
       "            </tr>\n",
       "            <tr>\n",
       "                        <th id=\"T_fc92a_level0_row7\" class=\"row_heading level0 row7\" >5</th>\n",
       "                        <td id=\"T_fc92a_row7_col0\" class=\"data row7 col0\" >Добавить страницу отзывов клиентов о магазине, что позволит увеличить количество заказов</td>\n",
       "                        <td id=\"T_fc92a_row7_col1\" class=\"data row7 col1\" >3</td>\n",
       "                        <td id=\"T_fc92a_row7_col2\" class=\"data row7 col2\" >2</td>\n",
       "                        <td id=\"T_fc92a_row7_col3\" class=\"data row7 col3\" >2</td>\n",
       "                        <td id=\"T_fc92a_row7_col4\" class=\"data row7 col4\" >3</td>\n",
       "                        <td id=\"T_fc92a_row7_col5\" class=\"data row7 col5\" >1.333333</td>\n",
       "                        <td id=\"T_fc92a_row7_col6\" class=\"data row7 col6\" >4.000000</td>\n",
       "            </tr>\n",
       "            <tr>\n",
       "                        <th id=\"T_fc92a_level0_row8\" class=\"row_heading level0 row8\" >4</th>\n",
       "                        <td id=\"T_fc92a_row8_col0\" class=\"data row8 col0\" >Изменить цвет фона главной страницы, чтобы увеличить вовлеченность пользователей</td>\n",
       "                        <td id=\"T_fc92a_row8_col1\" class=\"data row8 col1\" >3</td>\n",
       "                        <td id=\"T_fc92a_row8_col2\" class=\"data row8 col2\" >1</td>\n",
       "                        <td id=\"T_fc92a_row8_col3\" class=\"data row8 col3\" >1</td>\n",
       "                        <td id=\"T_fc92a_row8_col4\" class=\"data row8 col4\" >1</td>\n",
       "                        <td id=\"T_fc92a_row8_col5\" class=\"data row8 col5\" >1.000000</td>\n",
       "                        <td id=\"T_fc92a_row8_col6\" class=\"data row8 col6\" >3.000000</td>\n",
       "            </tr>\n",
       "    </tbody></table>"
      ],
      "text/plain": [
       "<pandas.io.formats.style.Styler at 0x189ac4f9a48>"
      ]
     },
     "execution_count": 24,
     "metadata": {},
     "output_type": "execute_result"
    }
   ],
   "source": [
    "(hypothesis \\\n",
    "     .sort_values(by='RICE', ascending=False) \\\n",
    "     .style\\\n",
    "     .highlight_max(color='yellowgreen', subset=numeric_columns)\\\n",
    "     .highlight_min(color='coral', subset=numeric_columns) \\\n",
    "     .set_properties(**{'text-align': 'left'}, subset='Hypothesis'))"
   ]
  },
  {
   "cell_type": "markdown",
   "metadata": {},
   "source": [
    "Две из трех первых гипотез по критерию ICE, остались также в первой тройке по RICE. Лучшая гипотеза по критерю ICE, по RICE оказалась в середине приоритетов. Полагаясь на оценку по ICE предпочтительнее гипотеза о запуске акционных скидок в день рождения. Наиболее лучшая согласно критерию  RICE гипотеза о добавлении формы подписки на все основные страницы для сбора базы клиентов для email-рассылок. Гипотеза о добавлении формы подписки охватывает всех потенциальных пользователей и потому имеет больше эффект. Тот факт, что при приоритизации по RICE гипотеза об акции в день рождения отодвинулась в середину списка объясняется высокими затратами на реализацию и маленьким охватом пользвателей, которых коснутся изменения. "
   ]
  },
  {
   "cell_type": "markdown",
   "metadata": {},
   "source": [
    "\n",
    "Возможно стоит рассмотреть RICE и гипотезу о форме подписки: охват больше, значит скорее всего конверсия будет выше, а результат повышения конверсии - повышение прибыли. Бонусом возможно получится запустить акционную рассылку в  день рождения сминимальными затратами. \n"
   ]
  },
  {
   "cell_type": "markdown",
   "metadata": {},
   "source": [
    "# Анализ A/B-теста\n",
    "<a id=\"analysis\"></a>"
   ]
  },
  {
   "cell_type": "markdown",
   "metadata": {},
   "source": [
    "## График кумулятивной выручки по группам\n",
    "<a id=\"step1\"></a>"
   ]
  },
  {
   "cell_type": "code",
   "execution_count": 25,
   "metadata": {},
   "outputs": [],
   "source": [
    "# Преобразуем формат даты\n",
    "orders['date'] = orders['date'].map(lambda x: dt.datetime.strptime(x, '%Y-%m-%d'))\n",
    "visitors['date'] = visitors['date'].map(lambda x: dt.datetime.strptime(x, '%Y-%m-%d'))\n",
    "\n",
    "# Выделим  дату и принадлежность к группе\n",
    "datesGroups = orders[['date','group']].drop_duplicates()"
   ]
  },
  {
   "cell_type": "code",
   "execution_count": 26,
   "metadata": {},
   "outputs": [],
   "source": [
    "# агрегированные данные\n",
    "ordersAggregated = datesGroups.apply \\\n",
    "    (lambda x: orders[np.logical_and(orders['date'] <= x['date'], orders['group'] == x['group'])] \\\n",
    "        .agg( \\\n",
    "            {'date' : 'max' \\\n",
    "            ,'group' : 'max' \\\n",
    "            ,'transactionId' : pd.Series.nunique \\\n",
    "            ,'visitorId' : pd.Series.nunique \\\n",
    "            ,'revenue' : 'sum'} \\\n",
    "            ) \\\n",
    "        , axis=1 \\\n",
    "    ).sort_values(by=['date','group'])\n",
    "\n",
    "visitorsAggregated = datesGroups.apply \\\n",
    "    (lambda x: visitors[np.logical_and(visitors['date'] <= x['date'], visitors['group'] == x['group'])] \\\n",
    "        .agg({ \\\n",
    "            'date' : 'max' \\\n",
    "            ,'group' : 'max' \\\n",
    "            ,'visitors' : 'sum'} \\\n",
    "            ) \\\n",
    "        ,axis=1 \\\n",
    "    ).sort_values(by=['date','group'])\n"
   ]
  },
  {
   "cell_type": "code",
   "execution_count": 27,
   "metadata": {},
   "outputs": [],
   "source": [
    "# Выделяем кумулятивные данные\n",
    "cumulativeData = ordersAggregated.merge( \\\n",
    "                                        visitorsAggregated \\\n",
    "                                        ,left_on=['date', 'group'] \\\n",
    "                                        ,right_on=['date', 'group'] \\\n",
    "                                       )\n",
    "cumulativeData.columns = ['date', 'group', 'orders', 'buyers', 'revenue', 'visitors']\n",
    "\n",
    "cumulativeRevenueA = cumulativeData[cumulativeData['group']=='A'][['date','revenue', 'orders']]\n",
    "cumulativeRevenueB = cumulativeData[cumulativeData['group']=='B'][['date','revenue', 'orders']]"
   ]
  },
  {
   "cell_type": "code",
   "execution_count": 28,
   "metadata": {},
   "outputs": [
    {
     "data": {
      "image/png": "[encoded data removed]",
      "text/plain": [
       "<Figure size 720x450 with 1 Axes>"
      ]
     },
     "metadata": {
      "needs_background": "light"
     },
     "output_type": "display_data"
    }
   ],
   "source": [
    "# Строим графики\n",
    "\n",
    "plt.plot(cumulativeRevenueA['date'], cumulativeRevenueA['revenue']*1.e-6, 'o-',label='группа A');\n",
    "plt.plot(cumulativeRevenueB['date'], cumulativeRevenueB['revenue']*1.e-6, 'o-',label='группа B');\n",
    "plt.legend();\n",
    "\n",
    "plt.title('Кумулятивная выручка по группам');\n",
    "plt.xlabel('дата');\n",
    "plt.ylabel('Выручка, млн. $');\n",
    "plt.xticks(rotation=45);\n",
    "plt.grid(True);\n",
    "#plt.xlim(\"2019-07-31\", \"2019-09-02\")"
   ]
  },
  {
   "cell_type": "markdown",
   "metadata": {},
   "source": [
    "Группа В выглядит лучше. Не совсем понятен скачок 18 августа 2019. Возможно к этому привели новые условия продаж, потому что тенденция в разнице продаж между группами сохраняется после скачка."
   ]
  },
  {
   "cell_type": "markdown",
   "metadata": {},
   "source": [
    "## График кумулятивного среднего чека по группам\n",
    "<a id=\"step2\"></a>"
   ]
  },
  {
   "cell_type": "code",
   "execution_count": 29,
   "metadata": {},
   "outputs": [
    {
     "data": {
      "image/png": "[encoded data removed]",
      "text/plain": [
       "<Figure size 720x450 with 1 Axes>"
      ]
     },
     "metadata": {
      "needs_background": "light"
     },
     "output_type": "display_data"
    }
   ],
   "source": [
    "plt.plot(cumulativeRevenueA['date'], cumulativeRevenueA['revenue']/cumulativeRevenueA['orders'], 'o-',label='Группа A')\n",
    "plt.plot(cumulativeRevenueB['date'], cumulativeRevenueB['revenue']/cumulativeRevenueB['orders'], 'o-',label='Группа B')\n",
    "plt.legend(loc='upper left');\n",
    "\n",
    "plt.title('Кумулятивный средний чек по группам');\n",
    "plt.xlabel('дата');\n",
    "plt.ylabel('Сумма чека');\n",
    "plt.xticks(rotation=45);\n",
    "plt.grid(True);"
   ]
  },
  {
   "cell_type": "markdown",
   "metadata": {},
   "source": [
    "В группе А средний чек имеет практически не меняется после 17 августа 2019, колеблется возле значения 7 000, возможно слабая иенденция к росту. Средний чек группы В имеет скачок, одновременно с ростом накопительной выручки. В отличие от выручки, сумма среднего чека по группе В падает после скачка. То есть в группе В покупок стало больше, но сумма чека уменьшилась."
   ]
  },
  {
   "cell_type": "markdown",
   "metadata": {},
   "source": [
    "## График относительного изменения кумулятивного среднего чека группы B к группе A\n",
    "<a id=\"step3\"></a>\n"
   ]
  },
  {
   "cell_type": "code",
   "execution_count": 30,
   "metadata": {},
   "outputs": [
    {
     "data": {
      "image/png": "[encoded data removed]",
      "text/plain": [
       "<Figure size 720x450 with 1 Axes>"
      ]
     },
     "metadata": {
      "needs_background": "light"
     },
     "output_type": "display_data"
    }
   ],
   "source": [
    "# соединиение таблиц по дате кумулятивной выручки групп \n",
    "mergedCumulativeRevenue = cumulativeRevenueA.merge( \\\n",
    "                                    cumulativeRevenueB \\\n",
    "                                    ,left_on='date' \\\n",
    "                                    ,right_on='date' \\\n",
    "                                    ,how='left' \\\n",
    "                                    ,suffixes=['A', 'B'])\n",
    "\n",
    "# отношение средних чеков\n",
    "plt.plot( \\\n",
    "         mergedCumulativeRevenue['date'] \\\n",
    "         ,(mergedCumulativeRevenue['revenueB']/mergedCumulativeRevenue['ordersB']) \\\n",
    "         /(mergedCumulativeRevenue['revenueA']/mergedCumulativeRevenue['ordersA'])-1);\n",
    "\n",
    "# ось X\n",
    "plt.axhline(y=0, color='black', linestyle='--') \n",
    "\n",
    "plt.title('Отношение кумулятивного среднего чека группы B к группе A');\n",
    "plt.xlabel('дата');\n",
    "plt.ylabel('Отношение B/A');\n",
    "plt.xticks(rotation=45);\n",
    "plt.grid(True);\n"
   ]
  },
  {
   "cell_type": "markdown",
   "metadata": {},
   "source": [
    "Нельзя сказать, что кумулятивный относитеьный средний чек группы В по отношению к группе А, имеет четкую тенденцию. На графике два периода колебаний, кроме этого в некоторые моменты времени группа В имеет проигрыш перед группой А. В среднем группа В выглядит лучше."
   ]
  },
  {
   "cell_type": "markdown",
   "metadata": {},
   "source": [
    "## График кумулятивной конверсии по группам\n",
    "<a id=\"step4\"></a>"
   ]
  },
  {
   "cell_type": "code",
   "execution_count": 31,
   "metadata": {},
   "outputs": [],
   "source": [
    "# конверсия групп\n",
    "cumulativeData['conversion'] = cumulativeData['orders']/cumulativeData['visitors']\n",
    "cumulativeDataA = cumulativeData[cumulativeData['group']=='A']\n",
    "cumulativeDataB = cumulativeData[cumulativeData['group']=='B']"
   ]
  },
  {
   "cell_type": "code",
   "execution_count": 32,
   "metadata": {},
   "outputs": [
    {
     "data": {
      "image/png": "[encoded data removed]",
      "text/plain": [
       "<Figure size 720x450 with 1 Axes>"
      ]
     },
     "metadata": {
      "needs_background": "light"
     },
     "output_type": "display_data"
    }
   ],
   "source": [
    "# строим графики\n",
    "plt.plot(cumulativeDataA['date'], cumulativeDataA['conversion'],'r--', linewidth = 2, label='группа A')\n",
    "plt.plot(cumulativeDataB['date'], cumulativeDataB['conversion'], linewidth = 2,label='группа B')\n",
    "plt.legend()\n",
    "#plt.axis([\"2019-03-10\", '2019-04-23', 0, 0.05])\n",
    "plt.title('Кумулятивная конверсия по группам');\n",
    "plt.xlabel('дата');\n",
    "plt.ylabel('конверсия');\n",
    "plt.xticks(rotation=45);\n",
    "plt.grid(True);\n"
   ]
  },
  {
   "cell_type": "markdown",
   "metadata": {},
   "source": [
    "В первый период времени конверсия очень подвержена скачкам в обеих группах. Примерно после 13.08.2019  намечается установившиеся колебания конверсии у групы А возле значения 3%. В тоже время у группы В намечается тенденция  к снижению конверсии, хотя значение 3.4% и выше чем в группе А около 3%. Но в обеих группах график показывает  колебания конверсии с амплитудой колебаний около 1.5%..2%"
   ]
  },
  {
   "cell_type": "markdown",
   "metadata": {},
   "source": [
    "## График относительного изменения кумулятивной конверсии группы B к группе A\n",
    "<a id=\"step5\"></a>"
   ]
  },
  {
   "cell_type": "code",
   "execution_count": 33,
   "metadata": {},
   "outputs": [],
   "source": [
    "\n",
    "mergedCumulativeConversions = cumulativeDataA[['date','conversion']] \\\n",
    "                            .merge(cumulativeDataB[['date','conversion']] \\\n",
    "                                   ,left_on='date' \\\n",
    "                                   ,right_on='date' \\\n",
    "                                   ,how='left' \\\n",
    "                                   ,suffixes=['A', 'B'] \\\n",
    "                                  )"
   ]
  },
  {
   "cell_type": "code",
   "execution_count": 34,
   "metadata": {},
   "outputs": [
    {
     "data": {
      "image/png": "[encoded data removed]",
      "text/plain": [
       "<Figure size 720x450 with 1 Axes>"
      ]
     },
     "metadata": {
      "needs_background": "light"
     },
     "output_type": "display_data"
    }
   ],
   "source": [
    "\n",
    "plt.plot(mergedCumulativeConversions['date'] \\\n",
    "             ,mergedCumulativeConversions['conversionB']/mergedCumulativeConversions['conversionA']-1 \\\n",
    "             ,label=\"прирост конверсии B / A\" \\\n",
    "             ,linewidth = 3 \\\n",
    "        )\n",
    "plt.legend();\n",
    "\n",
    "plt.title(\"Относительный прирост конверсии группы B относительно группы A\");\n",
    "plt.axhline(y=0, color='black', linestyle='--');\n",
    "plt.axhline(y=0.2, color='grey', linestyle='--');\n",
    "#plt.axis([\"2019-03-10\", '2019-04-23', -0.5, 0.5]) \n",
    "plt.xticks(rotation=45);\n",
    "plt.grid(True);"
   ]
  },
  {
   "cell_type": "markdown",
   "metadata": {},
   "source": [
    "График относительной конверии группы А к группе В носит колебательный характер, но явно заметно, что после после подъема в первой трети временного интервала, конверсия группы В выше конверсии группы А в среднем на 13%."
   ]
  },
  {
   "cell_type": "markdown",
   "metadata": {},
   "source": [
    "## Точечный график количества заказов по пользователям\n",
    "<a id=\"step6\"></a>"
   ]
  },
  {
   "cell_type": "markdown",
   "metadata": {},
   "source": [
    "#orders['revenue'].value_counts(normalize = True)"
   ]
  },
  {
   "cell_type": "code",
   "execution_count": 35,
   "metadata": {},
   "outputs": [],
   "source": [
    "# удаление дубликатов, группировка по пользователямб подсчтет заказов каждого пользователя\n",
    "ordersByUsers = orders \\\n",
    "                    .drop(['group', 'revenue', 'date'], axis=1) \\\n",
    "                    .groupby('visitorId', as_index=False) \\\n",
    "                    .agg({'transactionId' : pd.Series.nunique})\n",
    "ordersByUsers.columns = ['visitorId','orders']"
   ]
  },
  {
   "cell_type": "code",
   "execution_count": 36,
   "metadata": {},
   "outputs": [
    {
     "data": {
      "image/png": "[encoded data removed]",
      "text/plain": [
       "<Figure size 720x450 with 1 Axes>"
      ]
     },
     "metadata": {
      "needs_background": "light"
     },
     "output_type": "display_data"
    }
   ],
   "source": [
    "ordersByUsers.plot(x='visitorId', y='orders', kind='scatter');\n",
    "#plt.plot(ordersByUsers['visitorId'], ordersByUsers['orders'], kind='scatter');\n",
    "\n",
    "plt.title(\"Распределение пользователей по числу покупок\");\n",
    "#plt.legend(bbox_to_anchor=(0.5, 0.5))\n",
    "plt.xlabel('ID пользователя');\n",
    "plt.ylabel('Количесвтоа покупок')\n",
    "#plt.axis([\"2019-03-10\", '2019-04-23', -0.5, 0.5]) \n",
    "plt.xticks(rotation=0);\n",
    "plt.grid(True);\n"
   ]
  },
  {
   "cell_type": "markdown",
   "metadata": {},
   "source": [
    "Основной объем покупателей совершает 1 покупку, 2 и 3 поекпки делают значмительно реже. Имеются покупатели , совершившие 4,5 и более покупок"
   ]
  },
  {
   "cell_type": "markdown",
   "metadata": {},
   "source": [
    "распределение среднего чека по пользователям\n"
   ]
  },
  {
   "cell_type": "code",
   "execution_count": 37,
   "metadata": {},
   "outputs": [
    {
     "name": "stdout",
     "output_type": "stream",
     "text": [
      "p90 = 18168.00\n",
      "p95 = 28000.00\n",
      "p99 = 58233.20\n"
     ]
    }
   ],
   "source": [
    "print(\"p90 = {0:.2f}\".format(np.percentile(orders['revenue'], 90)))\n",
    "print(\"p95 = {0:.2f}\".format(np.percentile(orders['revenue'], 95)))\n",
    "print(\"p99 = {0:.2f}\".format(np.percentile(orders['revenue'], 99)))"
   ]
  },
  {
   "cell_type": "code",
   "execution_count": 38,
   "metadata": {},
   "outputs": [],
   "source": [
    "checkByUsers = orders.query('revenue < 1.e5') \\\n",
    "                    .drop(['group', 'date'], axis=1) \\\n",
    "                    .groupby('visitorId', as_index=False) \\\n",
    "                    .agg({'revenue' : 'mean'})\n",
    "checkByUsers.columns = ['visitorId','check']"
   ]
  },
  {
   "cell_type": "code",
   "execution_count": 39,
   "metadata": {},
   "outputs": [
    {
     "data": {
      "image/png": "[encoded data removed]",
      "text/plain": [
       "<Figure size 720x450 with 1 Axes>"
      ]
     },
     "metadata": {
      "needs_background": "light"
     },
     "output_type": "display_data"
    }
   ],
   "source": [
    "\n",
    "checkByUsers.plot(x='visitorId', y='check', kind='scatter');\n",
    "#plt.plot(ordersByUsers['visitorId'], ordersByUsers['orders'], kind='scatter');\n",
    "\n",
    "plt.title(\"Распределение пользователей по среднему чеку\");\n",
    "plt.xlabel('ID пользователя');\n",
    "plt.ylabel('чек')\n",
    "#plt.axis([\"2019-03-10\", '2019-04-23', -0.5, 0.5]) \n",
    "plt.xticks(rotation=0);\n",
    "plt.grid(True);"
   ]
  },
  {
   "cell_type": "markdown",
   "metadata": {},
   "source": [
    "\n",
    "Большое желание оставить 10 000, но тогда отбрасываетя уже 25% покупателей, что много. Да и 28 000 это 95 процентиль, что приемлемо\n"
   ]
  },
  {
   "cell_type": "markdown",
   "metadata": {},
   "source": [
    "## Расчет 95-го и 99-го перцентилей количества заказов на пользователя\n",
    "<a id=\"step7\"></a>"
   ]
  },
  {
   "cell_type": "code",
   "execution_count": 40,
   "metadata": {},
   "outputs": [
    {
     "name": "stdout",
     "output_type": "stream",
     "text": [
      "p95 = 2.00   p99 = 2.00\n",
      "p99 = 4.00   p99 = 4.00\n"
     ]
    }
   ],
   "source": [
    "#p95 = np.percentile(ordersByUsers['orders'], 95) \n",
    "#p99 = np.percentile(ordersByUsers['orders'], 99) \n",
    "print(\"p95 = {0:.2f}   p99 = {0:.2f}\".format(np.percentile(ordersByUsers['orders'], 95)))\n",
    "print(\"p99 = {0:.2f}   p99 = {0:.2f}\".format(np.percentile(ordersByUsers['orders'], 99)))"
   ]
  },
  {
   "cell_type": "markdown",
   "metadata": {},
   "source": [
    "Расчет совпадает c графиком. Доля пользователей совершивших более 4 покупок не привышает 1%, а доля пользователей совершивших более 2 покупок составляет не более 5%  от общего числа покупателей."
   ]
  },
  {
   "cell_type": "markdown",
   "metadata": {},
   "source": [
    "## Расчет статистической значимости различий в конверсии между группами по «сырым» данным\n",
    "<a id=\"step7\"></a>\n"
   ]
  },
  {
   "cell_type": "code",
   "execution_count": 41,
   "metadata": {},
   "outputs": [],
   "source": [
    "# выделение группы, \n",
    "visitorsADaily = visitors[visitors['group']=='A'][['date', 'visitors']]\n",
    "visitorsADaily.columns = ['date', 'visitorsPerDateA']\n",
    "# число пользователей по дням суммарно до выбранной даты\n",
    "visitorsACummulative = visitorsADaily.apply( \\\n",
    "        lambda x: visitorsADaily[visitorsADaily['date'] <= x['date']].agg({'date' : 'max', 'visitorsPerDateA' : 'sum'}), axis=1)\n",
    "visitorsACummulative.columns = ['date', 'visitorsCummulativeA']"
   ]
  },
  {
   "cell_type": "code",
   "execution_count": 42,
   "metadata": {},
   "outputs": [
    {
     "data": {
      "text/html": [
       "<div>\n",
       "<style scoped>\n",
       "    .dataframe tbody tr th:only-of-type {\n",
       "        vertical-align: middle;\n",
       "    }\n",
       "\n",
       "    .dataframe tbody tr th {\n",
       "        vertical-align: top;\n",
       "    }\n",
       "\n",
       "    .dataframe thead th {\n",
       "        text-align: right;\n",
       "    }\n",
       "</style>\n",
       "<table border=\"1\" class=\"dataframe\">\n",
       "  <thead>\n",
       "    <tr style=\"text-align: right;\">\n",
       "      <th></th>\n",
       "      <th>date</th>\n",
       "      <th>visitorsPerDateA</th>\n",
       "    </tr>\n",
       "  </thead>\n",
       "  <tbody>\n",
       "    <tr>\n",
       "      <th>0</th>\n",
       "      <td>2019-08-01</td>\n",
       "      <td>719</td>\n",
       "    </tr>\n",
       "    <tr>\n",
       "      <th>1</th>\n",
       "      <td>2019-08-02</td>\n",
       "      <td>619</td>\n",
       "    </tr>\n",
       "  </tbody>\n",
       "</table>\n",
       "</div>"
      ],
      "text/plain": [
       "        date  visitorsPerDateA\n",
       "0 2019-08-01               719\n",
       "1 2019-08-02               619"
      ]
     },
     "execution_count": 42,
     "metadata": {},
     "output_type": "execute_result"
    }
   ],
   "source": [
    "visitorsADaily[:2]"
   ]
  },
  {
   "cell_type": "code",
   "execution_count": 43,
   "metadata": {},
   "outputs": [
    {
     "data": {
      "text/html": [
       "<div>\n",
       "<style scoped>\n",
       "    .dataframe tbody tr th:only-of-type {\n",
       "        vertical-align: middle;\n",
       "    }\n",
       "\n",
       "    .dataframe tbody tr th {\n",
       "        vertical-align: top;\n",
       "    }\n",
       "\n",
       "    .dataframe thead th {\n",
       "        text-align: right;\n",
       "    }\n",
       "</style>\n",
       "<table border=\"1\" class=\"dataframe\">\n",
       "  <thead>\n",
       "    <tr style=\"text-align: right;\">\n",
       "      <th></th>\n",
       "      <th>date</th>\n",
       "      <th>visitorsCummulativeA</th>\n",
       "    </tr>\n",
       "  </thead>\n",
       "  <tbody>\n",
       "    <tr>\n",
       "      <th>0</th>\n",
       "      <td>2019-08-01</td>\n",
       "      <td>719</td>\n",
       "    </tr>\n",
       "    <tr>\n",
       "      <th>1</th>\n",
       "      <td>2019-08-02</td>\n",
       "      <td>1338</td>\n",
       "    </tr>\n",
       "    <tr>\n",
       "      <th>2</th>\n",
       "      <td>2019-08-03</td>\n",
       "      <td>1845</td>\n",
       "    </tr>\n",
       "  </tbody>\n",
       "</table>\n",
       "</div>"
      ],
      "text/plain": [
       "        date  visitorsCummulativeA\n",
       "0 2019-08-01                   719\n",
       "1 2019-08-02                  1338\n",
       "2 2019-08-03                  1845"
      ]
     },
     "execution_count": 43,
     "metadata": {},
     "output_type": "execute_result"
    }
   ],
   "source": [
    "visitorsACummulative[:3]"
   ]
  },
  {
   "cell_type": "code",
   "execution_count": 44,
   "metadata": {},
   "outputs": [
    {
     "data": {
      "text/html": [
       "<div>\n",
       "<style scoped>\n",
       "    .dataframe tbody tr th:only-of-type {\n",
       "        vertical-align: middle;\n",
       "    }\n",
       "\n",
       "    .dataframe tbody tr th {\n",
       "        vertical-align: top;\n",
       "    }\n",
       "\n",
       "    .dataframe thead th {\n",
       "        text-align: right;\n",
       "    }\n",
       "</style>\n",
       "<table border=\"1\" class=\"dataframe\">\n",
       "  <thead>\n",
       "    <tr style=\"text-align: right;\">\n",
       "      <th></th>\n",
       "      <th>date</th>\n",
       "      <th>ordersCummulativeA</th>\n",
       "      <th>revenueCummulativeA</th>\n",
       "    </tr>\n",
       "  </thead>\n",
       "  <tbody>\n",
       "    <tr>\n",
       "      <th>0</th>\n",
       "      <td>2019-08-01</td>\n",
       "      <td>24</td>\n",
       "      <td>148579</td>\n",
       "    </tr>\n",
       "    <tr>\n",
       "      <th>1</th>\n",
       "      <td>2019-08-02</td>\n",
       "      <td>44</td>\n",
       "      <td>242401</td>\n",
       "    </tr>\n",
       "  </tbody>\n",
       "</table>\n",
       "</div>"
      ],
      "text/plain": [
       "        date  ordersCummulativeA  revenueCummulativeA\n",
       "0 2019-08-01                  24               148579\n",
       "1 2019-08-02                  44               242401"
      ]
     },
     "execution_count": 44,
     "metadata": {},
     "output_type": "execute_result"
    }
   ],
   "source": [
    "ordersADaily = orders[orders['group']=='A'][['date', 'transactionId', 'visitorId', 'revenue']] \\\n",
    "    .groupby('date', as_index=False) \\\n",
    "    .agg({'transactionId' : pd.Series.nunique, 'revenue' : 'sum'})\n",
    "ordersADaily.columns = ['date', 'ordersPerDateA', 'revenuePerDateA']\n",
    "\n",
    "ordersACummulative = ordersADaily.apply(\n",
    "    lambda x: ordersADaily[ordersADaily['date'] <= x['date']] \\\n",
    "            .agg({\n",
    "                'date' : 'max',\n",
    "                'ordersPerDateA' : 'sum',\n",
    "                'revenuePerDateA' : 'sum'}), axis=1).sort_values(by=['date'])\n",
    "ordersACummulative.columns = ['date', 'ordersCummulativeA', 'revenueCummulativeA']\n",
    "\n",
    "ordersACummulative[:2]"
   ]
  },
  {
   "cell_type": "code",
   "execution_count": 45,
   "metadata": {},
   "outputs": [],
   "source": [
    "# Повторми для группы В\n",
    "visitorsBDaily = visitors[visitors['group']=='B'][['date', 'visitors']]\n",
    "visitorsBDaily.columns = ['date', 'visitorsPerDateB']\n",
    "\n",
    "visitorsBCummulative = visitorsBDaily.apply( \\\n",
    "        lambda x: visitorsBDaily[visitorsBDaily['date'] <= x['date']].agg({'date' : 'max', 'visitorsPerDateB' : 'sum'}), axis=1)\n",
    "visitorsBCummulative.columns = ['date', 'visitorsCummulativeB']"
   ]
  },
  {
   "cell_type": "code",
   "execution_count": 46,
   "metadata": {},
   "outputs": [],
   "source": [
    "ordersBDaily = orders[orders['group']=='B'][['date', 'transactionId', 'visitorId', 'revenue']]\\\n",
    "    .groupby('date', as_index=False)\\\n",
    "    .agg({'transactionId' : pd.Series.nunique, 'revenue' : 'sum'})\n",
    "ordersBDaily.columns = ['date', 'ordersPerDateB', 'revenuePerDateB']\n",
    "\n",
    "ordersBCummulative = ordersBDaily.apply( \\\n",
    "    lambda x: ordersBDaily[ordersBDaily['date'] <= x['date']] \\\n",
    "        .agg({ \\\n",
    "                'date' : 'max' \\\n",
    "                ,'ordersPerDateB' : 'sum' \\\n",
    "                ,'revenuePerDateB' : 'sum'} \\\n",
    "            ),axis=1 \\\n",
    "        ).sort_values(by=['date'])\n",
    "ordersBCummulative.columns = ['date', 'ordersCummulativeB', 'revenueCummulativeB']"
   ]
  },
  {
   "cell_type": "code",
   "execution_count": 47,
   "metadata": {},
   "outputs": [
    {
     "data": {
      "text/html": [
       "<div>\n",
       "<style scoped>\n",
       "    .dataframe tbody tr th:only-of-type {\n",
       "        vertical-align: middle;\n",
       "    }\n",
       "\n",
       "    .dataframe tbody tr th {\n",
       "        vertical-align: top;\n",
       "    }\n",
       "\n",
       "    .dataframe thead th {\n",
       "        text-align: right;\n",
       "    }\n",
       "</style>\n",
       "<table border=\"1\" class=\"dataframe\">\n",
       "  <thead>\n",
       "    <tr style=\"text-align: right;\">\n",
       "      <th></th>\n",
       "      <th>visitorId</th>\n",
       "      <th>orders</th>\n",
       "    </tr>\n",
       "  </thead>\n",
       "  <tbody>\n",
       "    <tr>\n",
       "      <th>15</th>\n",
       "      <td>182753106</td>\n",
       "      <td>1</td>\n",
       "    </tr>\n",
       "    <tr>\n",
       "      <th>440</th>\n",
       "      <td>3719891787</td>\n",
       "      <td>1</td>\n",
       "    </tr>\n",
       "  </tbody>\n",
       "</table>\n",
       "</div>"
      ],
      "text/plain": [
       "      visitorId  orders\n",
       "15    182753106       1\n",
       "440  3719891787       1"
      ]
     },
     "execution_count": 47,
     "metadata": {},
     "output_type": "execute_result"
    }
   ],
   "source": [
    "# сведем дневные накопительные расходы покупок, суммы чеков, числа покупателей в одну таблицу\n",
    "\n",
    "data = ordersADaily.merge(ordersBDaily, left_on='date', right_on='date', how='left')\\\n",
    "        .merge(ordersACummulative, left_on='date', right_on='date', how='left')\\\n",
    "        .merge(ordersBCummulative, left_on='date', right_on='date', how='left')\\\n",
    "        .merge(visitorsADaily, left_on='date', right_on='date', how='left')\\\n",
    "        .merge(visitorsBDaily, left_on='date', right_on='date', how='left')\\\n",
    "        .merge(visitorsACummulative, left_on='date', right_on='date', how='left')\\\n",
    "        .merge(visitorsBCummulative, left_on='date', right_on='date', how='left')\n",
    "\n",
    "# покупатели и количество покупок для каждого\n",
    "ordersByUsersA = orders[orders['group']=='A'] \\\n",
    "        .groupby('visitorId', as_index=False) \\\n",
    "        .agg({'transactionId' : pd.Series.nunique})\n",
    "ordersByUsersA.columns = ['visitorId', 'orders']\n",
    "\n",
    "ordersByUsersB = orders[orders['group']=='B'] \\\n",
    "        .groupby('visitorId', as_index=False) \\\n",
    "        .agg({'transactionId' : pd.Series.nunique})\n",
    "ordersByUsersB.columns = ['visitorId', 'orders']\n",
    "\n",
    "ordersByUsersA.sample(2)"
   ]
  },
  {
   "cell_type": "code",
   "execution_count": 48,
   "metadata": {},
   "outputs": [],
   "source": [
    "# пользователи делавашие заказы по группам А,В\n",
    "sampleA = pd.concat([ordersByUsersA['orders'], \\\n",
    "        pd.Series(0, index=np.arange(data['visitorsPerDateA'].sum() - len(ordersByUsersA['orders'])), name='orders')],axis=0)\n",
    "\n",
    "sampleB = pd.concat([ordersByUsersB['orders'] \\\n",
    "        ,pd.Series(0, index=np.arange(data['visitorsPerDateB'].sum() - len(ordersByUsersB['orders'])), name='orders')],axis=0) \n"
   ]
  },
  {
   "cell_type": "code",
   "execution_count": 49,
   "metadata": {},
   "outputs": [
    {
     "data": {
      "text/html": [
       "<div>\n",
       "<style scoped>\n",
       "    .dataframe tbody tr th:only-of-type {\n",
       "        vertical-align: middle;\n",
       "    }\n",
       "\n",
       "    .dataframe tbody tr th {\n",
       "        vertical-align: top;\n",
       "    }\n",
       "\n",
       "    .dataframe thead th {\n",
       "        text-align: right;\n",
       "    }\n",
       "</style>\n",
       "<table border=\"1\" class=\"dataframe\">\n",
       "  <thead>\n",
       "    <tr style=\"text-align: right;\">\n",
       "      <th></th>\n",
       "      <th>userId</th>\n",
       "      <th>orders</th>\n",
       "    </tr>\n",
       "  </thead>\n",
       "  <tbody>\n",
       "    <tr>\n",
       "      <th>263</th>\n",
       "      <td>2303470071</td>\n",
       "      <td>1</td>\n",
       "    </tr>\n",
       "    <tr>\n",
       "      <th>444</th>\n",
       "      <td>3766097110</td>\n",
       "      <td>1</td>\n",
       "    </tr>\n",
       "  </tbody>\n",
       "</table>\n",
       "</div>"
      ],
      "text/plain": [
       "         userId  orders\n",
       "263  2303470071       1\n",
       "444  3766097110       1"
      ]
     },
     "execution_count": 49,
     "metadata": {},
     "output_type": "execute_result"
    }
   ],
   "source": [
    "\n",
    "ordersByUsersA = orders[orders['group']=='A'] \\\n",
    "        .groupby('visitorId', as_index=False) \\\n",
    "        .agg({'transactionId' : pd.Series.nunique})\n",
    "ordersByUsersA.columns = ['userId', 'orders']\n",
    "\n",
    "ordersByUsersB = orders[orders['group']=='B'] \\\n",
    "        .groupby('visitorId', as_index=False) \\\n",
    "        .agg({'transactionId' : pd.Series.nunique})\n",
    "ordersByUsersB.columns = ['userId', 'orders']\n",
    "\n",
    "sampleA = pd.concat([ordersByUsersA['orders'] \\\n",
    "                     ,pd.Series(0, index=np.arange(data['visitorsPerDateA'].sum() - len(ordersByUsersA['orders'])), name='orders') \\\n",
    "                    ],axis=0)\n",
    "\n",
    "sampleB = pd.concat([ordersByUsersB['orders'] \\\n",
    "                     ,pd.Series(0, index=np.arange(data['visitorsPerDateB'].sum() - len(ordersByUsersB['orders'])), name='orders') \\\n",
    "                    ],axis=0)\n",
    "\n",
    "ordersByUsersA.sample(2)"
   ]
  },
  {
   "cell_type": "markdown",
   "metadata": {},
   "source": [
    "гипотеза H0: статистически значимых различий в конверсии между группами нет"
   ]
  },
  {
   "cell_type": "code",
   "execution_count": 50,
   "metadata": {},
   "outputs": [
    {
     "data": {
      "text/plain": [
       "'p-value: 0.01679'"
      ]
     },
     "execution_count": 50,
     "metadata": {},
     "output_type": "execute_result"
    }
   ],
   "source": [
    "\"p-value: {0:.5f}\".format(st.mannwhitneyu(sampleA, sampleB, alternative='two-sided')[1])"
   ]
  },
  {
   "cell_type": "markdown",
   "metadata": {},
   "source": [
    "Значение p-value = 0.01679 меньше 0.05. Гипотеза о том, что в сырых данных различий в конверсии между группами нет, не подтвердилась и вынуждены от нее отказаться в пользу альтернативной гипотезы, что конверсии в группе А и В различаются. \n",
    "\n"
   ]
  },
  {
   "cell_type": "markdown",
   "metadata": {},
   "source": [
    "\n",
    "относительное изменение величины конверсии B/A"
   ]
  },
  {
   "cell_type": "code",
   "execution_count": 51,
   "metadata": {},
   "outputs": [
    {
     "data": {
      "text/plain": [
       "'13.81%'"
      ]
     },
     "execution_count": 51,
     "metadata": {},
     "output_type": "execute_result"
    }
   ],
   "source": [
    "\"{0:.2%}\".format(sampleB.mean()/sampleA.mean()-1)"
   ]
  },
  {
   "cell_type": "markdown",
   "metadata": {},
   "source": [
    "относительное изменение величины конверсии B/A около 14%. Изменения существенные, учитывая, что статисттически это не случайно, очень неплохой прирост конверсии"
   ]
  },
  {
   "cell_type": "markdown",
   "metadata": {},
   "source": [
    "## Расчет статистической значимости различий в среднем чеке заказа между группами по «сырым» данным\n",
    "<a id=\"step9\"></a>"
   ]
  },
  {
   "cell_type": "code",
   "execution_count": 52,
   "metadata": {},
   "outputs": [
    {
     "name": "stdout",
     "output_type": "stream",
     "text": [
      "p-value: 0.365\n",
      "относительный средний чек: 0.259\n"
     ]
    }
   ],
   "source": [
    "print(\"p-value: {0:.3f}\".format(st.mannwhitneyu(orders[orders['group']=='A']['revenue'], orders[orders['group']=='B']['revenue'])[1]))\n",
    "print(\"относительный средний чек: {0:.3f}\".format(orders[orders['group']=='B']['revenue'].mean()/orders[orders['group']=='A']['revenue'].mean()-1)) "
   ]
  },
  {
   "cell_type": "markdown",
   "metadata": {},
   "source": [
    "значение статистической значимости p-value = 0.365, что больше чем 0.05. Хотя средние чеки по группам различны, предположение о том, что средние чеки по группам отличаются статистически, оказалось неверным\n"
   ]
  },
  {
   "cell_type": "markdown",
   "metadata": {},
   "source": [
    "## Расчет статистической значимости различий в конверсии между группами по «очищенным» данным\n",
    "<a id=\"step12\"></a>   "
   ]
  },
  {
   "cell_type": "code",
   "execution_count": 53,
   "metadata": {},
   "outputs": [
    {
     "data": {
      "image/png": "[encoded data removed]",
      "text/plain": [
       "<Figure size 720x450 with 1 Axes>"
      ]
     },
     "metadata": {
      "needs_background": "light"
     },
     "output_type": "display_data"
    }
   ],
   "source": [
    "plt.hist(ordersByUsersA['orders'], bins=7);\n",
    "plt.title(\"Частота покупок\");\n",
    "plt.xlabel('покупки');\n",
    "plt.ylabel('пользователи')\n",
    "plt.xticks(rotation=0);\n",
    "plt.grid(True);"
   ]
  },
  {
   "cell_type": "code",
   "execution_count": 54,
   "metadata": {},
   "outputs": [
    {
     "data": {
      "text/plain": [
       "'p95 = 28000.00   p99 = 28000.00'"
      ]
     },
     "execution_count": 54,
     "metadata": {},
     "output_type": "execute_result"
    }
   ],
   "source": [
    "\"p95 = {0:.2f}   p99 = {0:.2f}\".format(np.percentile(orders['revenue'], 95),np.percentile(orders['revenue'], 99))"
   ]
  },
  {
   "cell_type": "markdown",
   "metadata": {},
   "source": [
    "Оставим пользователей совершивших 3 и менее покупки с суммой покупки не более 18 000"
   ]
  },
  {
   "cell_type": "code",
   "execution_count": 55,
   "metadata": {},
   "outputs": [
    {
     "name": "stdout",
     "output_type": "stream",
     "text": [
      "Число отброшенных пользователей:  63\n"
     ]
    }
   ],
   "source": [
    "#  считаем номальным 3 и менее покупки одним пользователем и сумма до 28 000\n",
    "usersWithManyOrders = pd.concat([ordersByUsersA[ordersByUsersA['orders'] > 3]['userId'] \\\n",
    "                                 ,ordersByUsersB[ordersByUsersB['orders'] > 3]['userId']], axis = 0)\n",
    "usersWithExpensiveOrders = orders[orders['revenue'] > 28000]['visitorId']\n",
    "abnormalUsers = pd.concat([usersWithManyOrders, usersWithExpensiveOrders], axis = 0).drop_duplicates().sort_values()\n",
    "\n",
    "print(\"Число отброшенных пользователей: \", abnormalUsers.shape[0])"
   ]
  },
  {
   "cell_type": "code",
   "execution_count": 56,
   "metadata": {},
   "outputs": [],
   "source": [
    "#len(orders.query('group == \"B\"')['visitorId'].unique())\n",
    "#len(orders['visitorId'].unique())                                         "
   ]
  },
  {
   "cell_type": "markdown",
   "metadata": {},
   "source": [
    "Будем считать, что нормальная покупка не превышает суммы 28 000, а число нормальных покупок каждого пользователя в среднем не превашает 3"
   ]
  },
  {
   "cell_type": "code",
   "execution_count": 57,
   "metadata": {},
   "outputs": [],
   "source": [
    "usersWithManyOrders = pd.concat \\\n",
    "    ( \\\n",
    "     [ordersByUsersA[ordersByUsersA['orders'] > 3]['userId'] \\\n",
    "      , ordersByUsersB[ordersByUsersB['orders'] > 3]['userId']] \\\n",
    "      ,axis = 0 \\\n",
    "    )\n",
    "usersWithExpensiveOrders = orders[orders['revenue'] > 28000]['visitorId']\n",
    "\n",
    "abnormalUsers = pd.concat([usersWithManyOrders, usersWithExpensiveOrders], axis = 0) \\\n",
    "        .drop_duplicates() \\\n",
    "        .sort_values()\n",
    "\n",
    "sampleAFiltered = pd.concat([ \\\n",
    "                             ordersByUsersA[np.logical_not(ordersByUsersA['userId'].isin(abnormalUsers))]['orders'] \\\n",
    "                             ,pd.Series(0, index=np.arange(data['visitorsPerDateA'].sum() - len(ordersByUsersA['orders'])),name='orders') \\\n",
    "                            ],axis=0)\n",
    "\n",
    "sampleBFiltered = pd.concat([ \\\n",
    "                             ordersByUsersB[np.logical_not(ordersByUsersB['userId'].isin(abnormalUsers))]['orders'] \\\n",
    "                             ,pd.Series(0, index=np.arange(data['visitorsPerDateB'].sum() - len(ordersByUsersB['orders'])),name='orders') \\\n",
    "                            ],axis=0) \n"
   ]
  },
  {
   "cell_type": "code",
   "execution_count": 58,
   "metadata": {},
   "outputs": [
    {
     "data": {
      "text/plain": [
       "'p-value: 0.00897'"
      ]
     },
     "execution_count": 58,
     "metadata": {},
     "output_type": "execute_result"
    }
   ],
   "source": [
    "# p-value конверсии\n",
    "\"p-value: {0:.5f}\".format(st.mannwhitneyu(sampleAFiltered, sampleBFiltered)[1])"
   ]
  },
  {
   "cell_type": "markdown",
   "metadata": {},
   "source": [
    "Конверсия по отфильтрованным данным отличается несильно от конверсии по не фильтрованным данным. Гипотеза, что в отфильтрованных данных статистически значимых различий в конверсии между группами нет, неверна. \n"
   ]
  },
  {
   "cell_type": "code",
   "execution_count": 59,
   "metadata": {},
   "outputs": [
    {
     "name": "stdout",
     "output_type": "stream",
     "text": [
      "Относительная конверсия группы В по отношению к группе А 0.14846453749198907\n"
     ]
    }
   ],
   "source": [
    "# Относительная конверсия группы В по отношению к группе А\n",
    "#\"{0:.2%}\".format(sampleBFiltered.mean()/sampleAFiltered.mean()-1)\n",
    "print(f\"Относительная конверсия группы В по отношению к группе А {(sampleBFiltered.mean()/sampleAFiltered.mean()-1)}\")"
   ]
  },
  {
   "cell_type": "markdown",
   "metadata": {},
   "source": [
    "## Расчет статистической значимости различий в среднем чеке заказа между группами по «очищенным» данным\n",
    "<a id=\"step13\"></a>"
   ]
  },
  {
   "cell_type": "code",
   "execution_count": 60,
   "metadata": {},
   "outputs": [
    {
     "name": "stdout",
     "output_type": "stream",
     "text": [
      "уровень статичстической значимости: 0.488\n",
      "относителный средний чек между группами: -0.017\n"
     ]
    }
   ],
   "source": [
    "print(\"уровень статичстической значимости: {0:.3f}\".format(st.mannwhitneyu(\n",
    "    orders[np.logical_and(orders['group']=='A',np.logical_not(orders['visitorId'].isin(abnormalUsers)))]['revenue'],\n",
    "    orders[np.logical_and(orders['group']=='B',np.logical_not(orders['visitorId'].isin(abnormalUsers)))]['revenue'])[1]))\n",
    "\n",
    "print(\"относителный средний чек между группами: {0:.3f}\".format(\n",
    "    orders[np.logical_and(orders['group']=='B',np.logical_not(orders['visitorId'].isin(abnormalUsers)))]['revenue'].mean()/\n",
    "    orders[np.logical_and(orders['group']=='A',np.logical_not(orders['visitorId'].isin(abnormalUsers)))]['revenue'].mean() - 1)) \n"
   ]
  },
  {
   "cell_type": "markdown",
   "metadata": {},
   "source": [
    "Величина p-value после исключения выбросов выросла на 20% и также превышает допустимые 0.05. Вероятность 50% получить одинаковые результаты в группах, что говорит об отсутствии различия групп по среднему чеку. Относительный среднийй чек незначительно уменьшился,  изменениями в третьем знаке можно принебречь "
   ]
  },
  {
   "cell_type": "markdown",
   "metadata": {},
   "source": [
    "## Графики конверсии, среднего чека, кумулятивной выручки по «очищенным» данным\n",
    "<a id=\"step14\"></a>"
   ]
  },
  {
   "cell_type": "markdown",
   "metadata": {},
   "source": [
    "##### Общие вспомогательные вычисления"
   ]
  },
  {
   "cell_type": "code",
   "execution_count": 61,
   "metadata": {},
   "outputs": [],
   "source": [
    "# уберем  \"ненормальных\" пользователей с большим чеком и частыми покупками\n",
    "ordersClear = orders.query('visitorId not in @abnormalUsers')\n",
    "\n",
    "\n",
    "ordersAggregated = datesGroups.apply \\\n",
    "    (lambda x: ordersClear[np.logical_and(ordersClear['date'] <= x['date'], ordersClear['group'] == x['group'])] \\\n",
    "        .agg( \\\n",
    "            {'date' : 'max' \\\n",
    "            ,'group' : 'max' \\\n",
    "            ,'transactionId' : pd.Series.nunique \\\n",
    "            ,'visitorId' : pd.Series.nunique \\\n",
    "            ,'revenue' : 'sum'} \\\n",
    "            ) \\\n",
    "        , axis=1 \\\n",
    "    ).sort_values(by=['date','group'])\n",
    "\n",
    "visitorsAggregated = datesGroups.apply \\\n",
    "    (lambda x: visitors[np.logical_and(visitors['date'] <= x['date'], visitors['group'] == x['group'])] \\\n",
    "        .agg({ \\\n",
    "            'date' : 'max' \\\n",
    "            ,'group' : 'max' \\\n",
    "            ,'visitors' : 'sum'} \\\n",
    "            ) \\\n",
    "        ,axis=1 \\\n",
    "    ).sort_values(by=['date','group'])\n",
    "\n",
    "\n",
    "# Выделяем кумулятивные данные\n",
    "cumulativeData = ordersAggregated.merge( \\\n",
    "                                        visitorsAggregated \\\n",
    "                                        ,left_on=['date', 'group'] \\\n",
    "                                        ,right_on=['date', 'group'] \\\n",
    "                                       )\n",
    "cumulativeData.columns = ['date', 'group', 'orders', 'buyers', 'revenue', 'visitors']\n",
    "\n",
    "cumulativeRevenueA = cumulativeData[cumulativeData['group']=='A'][['date','revenue', 'orders']]\n",
    "cumulativeRevenueB = cumulativeData[cumulativeData['group']=='B'][['date','revenue', 'orders']]"
   ]
  },
  {
   "cell_type": "markdown",
   "metadata": {},
   "source": [
    "#### конверсия"
   ]
  },
  {
   "cell_type": "code",
   "execution_count": 62,
   "metadata": {},
   "outputs": [],
   "source": [
    "# конверсия групп\n",
    "cumulativeData['conversion'] = cumulativeData['orders']/cumulativeData['visitors']\n",
    "cumulativeDataA = cumulativeData[cumulativeData['group']=='A']\n",
    "cumulativeDataB = cumulativeData[cumulativeData['group']=='B']"
   ]
  },
  {
   "cell_type": "code",
   "execution_count": 63,
   "metadata": {},
   "outputs": [
    {
     "data": {
      "image/png": "[encoded data removed]",
      "text/plain": [
       "<Figure size 720x450 with 1 Axes>"
      ]
     },
     "metadata": {
      "needs_background": "light"
     },
     "output_type": "display_data"
    }
   ],
   "source": [
    "# строим графики\n",
    "plt.plot(cumulativeDataA['date'], cumulativeDataA['conversion'],'r--', linewidth = 2, label='группа A')\n",
    "plt.plot(cumulativeDataB['date'], cumulativeDataB['conversion'], linewidth = 2,label='группа B')\n",
    "plt.legend()\n",
    "plt.title('Кумулятивная конверсия по группам');\n",
    "plt.xlabel('дата');\n",
    "plt.ylabel('конверсия');\n",
    "plt.xticks(rotation=45);\n",
    "plt.grid(True);"
   ]
  },
  {
   "cell_type": "markdown",
   "metadata": {},
   "source": [
    "Тенденция поведения конверсии групп после фильтрации осталась. Конверсия группы В лучше."
   ]
  },
  {
   "cell_type": "markdown",
   "metadata": {},
   "source": [
    "#### кумулятивная выручка"
   ]
  },
  {
   "cell_type": "code",
   "execution_count": 64,
   "metadata": {},
   "outputs": [
    {
     "data": {
      "image/png": "[encoded data removed]",
      "text/plain": [
       "<Figure size 720x450 with 1 Axes>"
      ]
     },
     "metadata": {
      "needs_background": "light"
     },
     "output_type": "display_data"
    }
   ],
   "source": [
    "# Строим графики\n",
    "plt.plot(cumulativeRevenueA['date'], cumulativeRevenueA['revenue']*1.e-6, 'o-',label='группа A');\n",
    "plt.plot(cumulativeRevenueB['date'], cumulativeRevenueB['revenue']*1.e-6, 'o-',label='группа B');\n",
    "plt.legend();\n",
    "\n",
    "plt.title('Кумулятивная выручка по группам');\n",
    "plt.xlabel('дата');\n",
    "plt.ylabel('Выручка, млн. $');\n",
    "plt.xticks(rotation=45);\n",
    "plt.grid(True);"
   ]
  },
  {
   "cell_type": "markdown",
   "metadata": {},
   "source": [
    "\n",
    "После \"очистки\" данных выручка группы В стабильно выше выручки грурры А. "
   ]
  },
  {
   "cell_type": "markdown",
   "metadata": {},
   "source": [
    "#### средний чек"
   ]
  },
  {
   "cell_type": "code",
   "execution_count": 65,
   "metadata": {},
   "outputs": [
    {
     "data": {
      "image/png": "[encoded data removed]",
      "text/plain": [
       "<Figure size 720x450 with 1 Axes>"
      ]
     },
     "metadata": {
      "needs_background": "light"
     },
     "output_type": "display_data"
    }
   ],
   "source": [
    "plt.plot(cumulativeRevenueA['date'], cumulativeRevenueA['revenue']/cumulativeRevenueA['orders'], 'o-',label='Группа A')\n",
    "plt.plot(cumulativeRevenueB['date'], cumulativeRevenueB['revenue']/cumulativeRevenueB['orders'], 'o-',label='Группа B')\n",
    "plt.legend(loc='lower right');\n",
    "\n",
    "plt.title('Кумулятивный средний чек по группам');\n",
    "plt.xlabel('дата');\n",
    "plt.ylabel('Сумма чека');\n",
    "plt.xticks(rotation=45);\n",
    "plt.grid(True);"
   ]
  },
  {
   "cell_type": "markdown",
   "metadata": {},
   "source": [
    "   \n",
    "По очищенным данным наблюдается колебания среднего чека группы В вокруг значения  среднего чека группы А. В завершающей стадии явно проигрыш по сумме среднего чека.\n"
   ]
  },
  {
   "cell_type": "markdown",
   "metadata": {},
   "source": [
    "Оценка вероятности ошибки и скоректированной ошибки по причине множествееной роверки гипотез"
   ]
  },
  {
   "cell_type": "code",
   "execution_count": 66,
   "metadata": {},
   "outputs": [
    {
     "name": "stdout",
     "output_type": "stream",
     "text": [
      "Вероятность ошибки 9.75%, что больше 5%\n"
     ]
    }
   ],
   "source": [
    "print('Вероятность ошибки {:.2%}, что больше 5%'.format(1 -(1 - 0.05) ** 2))"
   ]
  },
  {
   "cell_type": "code",
   "execution_count": 67,
   "metadata": {},
   "outputs": [
    {
     "name": "stdout",
     "output_type": "stream",
     "text": [
      "Вероятность ошибки 4.94%, что гарантированно не более 5%\n"
     ]
    }
   ],
   "source": [
    "print('Вероятность ошибки {:.2%}, что гарантированно не более 5%'.format(1 -(1 - 0.05/2) ** 2))"
   ]
  },
  {
   "cell_type": "markdown",
   "metadata": {},
   "source": [
    "# Общий вывод\n",
    "<a id=\"resume\"></a>"
   ]
  },
  {
   "cell_type": "markdown",
   "metadata": {},
   "source": [
    "Анализ результатов A/B теста показал, что "
   ]
  },
  {
   "cell_type": "markdown",
   "metadata": {},
   "source": [
    "* Замечания:\n",
    "    * Удалены забросы по сумме чека и количеству покупок. Забросы искажают реальную картину\n",
    "    \n",
    "    \n",
    "* Конверсия:\n",
    "    * Конверсия по отфильтрованным данным и по \"сырым\" данным между выборками А и В численно отличается.\n",
    "    * Конверсия выборки В относительно выборки А выглядит лучше, но определнной тенденции к увеличиению не наблюдается\n",
    "    * Наблюдается статистически значимое различие конверсии между группами А и В. \n",
    "    * Цель фич из раздела 1 было увеличение конверсии и как следствие выручки. Цель достигнута - конверсия выросла, выручка также выросла.\n",
    "    \n",
    "    \n",
    "* Средний чек: \n",
    "    * Средний чек группы В выше, но дальнейшая тенденция ближе к нисходящему тренду. \n",
    "    * Отсутствуют статистически значимые различия групп по среднему чеку как по \"сырым\" данным, так и по фильтрованным\n",
    "\n",
    "\n",
    "* Выручка: \n",
    "    * Кумулятивная выручка группы В по очищенным данным стабильно выше выручки группы А\n",
    "\n",
    "\n",
    "\n",
    "* Общий вывод:\n",
    "    * После изучения среднего чека, конверсии, выручки по очищенным данным можно сделать вывод, что результат группы В лучше , чем группы А как по конверсии, так и по выручке, даже несмотря на то, что средний чек группы В несильно отличается от среднего чека группы А. Можно считать тест успешным и сказать, что цель увеличиения выручки достигнута"
   ]
  }
 ],
 "metadata": {
  "kernelspec": {
   "display_name": "Python 3",
   "language": "python",
   "name": "python3"
  },
  "language_info": {
   "codemirror_mode": {
    "name": "ipython",
    "version": 3
   },
   "file_extension": ".py",
   "mimetype": "text/x-python",
   "name": "python",
   "nbconvert_exporter": "python",
   "pygments_lexer": "ipython3",
   "version": "3.7.9"
  },
  "toc": {
   "base_numbering": 1,
   "nav_menu": {},
   "number_sections": true,
   "sideBar": true,
   "skip_h1_title": false,
   "title_cell": "Table of Contents",
   "title_sidebar": "Contents",
   "toc_cell": false,
   "toc_position": {
    "height": "calc(100% - 180px)",
    "left": "10px",
    "top": "150px",
    "width": "273.2px"
   },
   "toc_section_display": true,
   "toc_window_display": false
  }
 },
 "nbformat": 4,
 "nbformat_minor": 4
}
