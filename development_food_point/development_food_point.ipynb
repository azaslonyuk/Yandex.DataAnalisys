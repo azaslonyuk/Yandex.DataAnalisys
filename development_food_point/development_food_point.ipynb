{
 "cells": [
  {
   "cell_type": "markdown",
   "metadata": {},
   "source": [
    "# Описание проекта\n",
    "<a id=\"defenition\"></a>\n",
    "\n"
   ]
  },
  {
   "cell_type": "markdown",
   "metadata": {},
   "source": [
    "**Анализ рынка точек общественного питания с целью выбора лучшего варианта местоположения для открытия кафе с роботами-официантами**\n",
    "\n",
    "<p><a href=\"https://yadi.sk/i/W_YGrE3_jk9D5w\">ПРЕЗЕНТАЦИЯ ДОСТУПНА ПО ССЫЛКЕ</a> </p>"
   ]
  },
  {
   "cell_type": "markdown",
   "metadata": {},
   "source": [
    "## Оглавление <a id='Оглавление'></a>\n",
    "\n",
    "\n",
    "[Подключение библиотек, открытие исходных данных](#start)\n",
    "\n",
    "\n",
    "[Изучение данных](#preprocessing)  \n",
    "  * [Cоотношение видов объектов общественного питания по количеству](#step1)\n",
    "  * [Cоотношение сетевых и несетевых заведений по количеству](#step2)\n",
    "  * [Объекты питания имеющие сетевое распространение](#step3)\n",
    "  * [Иссследование сетевых заведений](#step4)\n",
    "  * [Исследование видов объектов общепита по числу мест](#step5)\n",
    "  * [Выделение адреса точки питания](#step6)\n",
    "  * [Топ-10 улиц по количеству объектов общественного питания](#step7)\n",
    "  * [Расположение районов с малой плотностью точек общепита](#step8)\n",
    "  * [Распределение количества посадочных мест заведений для районов с высокой плотностью точек питания](#step9)\n",
    "\n",
    "\n",
    "\n",
    "[Заключение. Общий вывод](#resume)"
   ]
  },
  {
   "cell_type": "markdown",
   "metadata": {},
   "source": [
    "*Опсание данных*\n",
    "* __``id``__ — *идентификатор объекта;*\n",
    "* __``object_name``__ — *название объекта общественного питания;*\n",
    "* __``chain``__ — *сетевой ресторан;*\n",
    "* __``object_type``__ — *тип объекта общественного питания;*\n",
    "* __``address``__ — *адрес;*\n",
    "* __``number``__ — *количество посадочных мест*"
   ]
  },
  {
   "cell_type": "markdown",
   "metadata": {},
   "source": [
    "# Подключение библиотек, открытие исходных данных\n",
    "<a id=\"start\"></a>\n",
    "[*Назад к оглавлению*](#Оглавление)\n",
    "\n",
    "**Библиотеки**"
   ]
  },
  {
   "cell_type": "code",
   "execution_count": 1,
   "metadata": {},
   "outputs": [],
   "source": [
    "import pandas as pd\n",
    "import re\n",
    "\n",
    "import seaborn as sns\n",
    "import numpy as np\n",
    "import matplotlib.pyplot as plt\n",
    "from plotly import graph_objects as go\n",
    "import plotly.express as px\n",
    "\n",
    "%matplotlib inline\n",
    "#%config InlineBackend.figure_format = 'svg'"
   ]
  },
  {
   "cell_type": "markdown",
   "metadata": {},
   "source": [
    "**Датасеты**"
   ]
  },
  {
   "cell_type": "code",
   "execution_count": 2,
   "metadata": {},
   "outputs": [],
   "source": [
    "# открываем датасеты\n",
    "try:\n",
    "    rest = pd.read_csv('d:/home/datasets/rest_data.csv')\n",
    "except:\n",
    "    rest = pd.read_csv('/datasets/rest_data.csv')"
   ]
  },
  {
   "cell_type": "markdown",
   "metadata": {},
   "source": [
    "**Настройки**"
   ]
  },
  {
   "cell_type": "code",
   "execution_count": 3,
   "metadata": {},
   "outputs": [],
   "source": [
    "# настройки\n",
    "pd.set_option('max_rows', 8)\n",
    "pd.set_option('display.float_format', '{:.2f}'.format)\n",
    "plt.rcParams[\"figure.figsize\"] = (9,6)\n",
    "plt.rcParams[\"figure.dpi\"] = 75"
   ]
  },
  {
   "cell_type": "markdown",
   "metadata": {},
   "source": [
    "**Изучение фрейма**"
   ]
  },
  {
   "cell_type": "code",
   "execution_count": 4,
   "metadata": {},
   "outputs": [
    {
     "name": "stdout",
     "output_type": "stream",
     "text": [
      "<class 'pandas.core.frame.DataFrame'>\n",
      "RangeIndex: 15366 entries, 0 to 15365\n",
      "Data columns (total 6 columns):\n",
      " #   Column       Non-Null Count  Dtype \n",
      "---  ------       --------------  ----- \n",
      " 0   id           15366 non-null  int64 \n",
      " 1   object_name  15366 non-null  object\n",
      " 2   chain        15366 non-null  object\n",
      " 3   object_type  15366 non-null  object\n",
      " 4   address      15366 non-null  object\n",
      " 5   number       15366 non-null  int64 \n",
      "dtypes: int64(2), object(4)\n",
      "memory usage: 720.4+ KB\n"
     ]
    },
    {
     "data": {
      "text/html": [
       "<div>\n",
       "<style scoped>\n",
       "    .dataframe tbody tr th:only-of-type {\n",
       "        vertical-align: middle;\n",
       "    }\n",
       "\n",
       "    .dataframe tbody tr th {\n",
       "        vertical-align: top;\n",
       "    }\n",
       "\n",
       "    .dataframe thead th {\n",
       "        text-align: right;\n",
       "    }\n",
       "</style>\n",
       "<table border=\"1\" class=\"dataframe\">\n",
       "  <thead>\n",
       "    <tr style=\"text-align: right;\">\n",
       "      <th></th>\n",
       "      <th>id</th>\n",
       "      <th>object_name</th>\n",
       "      <th>chain</th>\n",
       "      <th>object_type</th>\n",
       "      <th>address</th>\n",
       "      <th>number</th>\n",
       "    </tr>\n",
       "  </thead>\n",
       "  <tbody>\n",
       "    <tr>\n",
       "      <th>10756</th>\n",
       "      <td>185860</td>\n",
       "      <td>TESTA</td>\n",
       "      <td>нет</td>\n",
       "      <td>ресторан</td>\n",
       "      <td>город Москва, Лесная улица, дом 55, строение 1</td>\n",
       "      <td>45</td>\n",
       "    </tr>\n",
       "    <tr>\n",
       "      <th>10552</th>\n",
       "      <td>189032</td>\n",
       "      <td>Токмакоff</td>\n",
       "      <td>нет</td>\n",
       "      <td>кафе</td>\n",
       "      <td>город Москва, Токмаков переулок, дом 12/20</td>\n",
       "      <td>40</td>\n",
       "    </tr>\n",
       "    <tr>\n",
       "      <th>12458</th>\n",
       "      <td>193192</td>\n",
       "      <td>Кулинария «Брецель»</td>\n",
       "      <td>нет</td>\n",
       "      <td>кафетерий</td>\n",
       "      <td>город Москва, город Зеленоград, корпус 1130</td>\n",
       "      <td>7</td>\n",
       "    </tr>\n",
       "    <tr>\n",
       "      <th>272</th>\n",
       "      <td>69468</td>\n",
       "      <td>АРМЕНИЯ</td>\n",
       "      <td>нет</td>\n",
       "      <td>ресторан</td>\n",
       "      <td>город Москва, Тверская улица, дом 17</td>\n",
       "      <td>144</td>\n",
       "    </tr>\n",
       "    <tr>\n",
       "      <th>11705</th>\n",
       "      <td>186525</td>\n",
       "      <td>Кафе «Кофе Порт»</td>\n",
       "      <td>нет</td>\n",
       "      <td>кафе</td>\n",
       "      <td>город Москва, Пресненская набережная, дом 6, с...</td>\n",
       "      <td>7</td>\n",
       "    </tr>\n",
       "  </tbody>\n",
       "</table>\n",
       "</div>"
      ],
      "text/plain": [
       "           id          object_name chain object_type  \\\n",
       "10756  185860                TESTA   нет    ресторан   \n",
       "10552  189032            Токмакоff   нет        кафе   \n",
       "12458  193192  Кулинария «Брецель»   нет   кафетерий   \n",
       "272     69468              АРМЕНИЯ   нет    ресторан   \n",
       "11705  186525     Кафе «Кофе Порт»   нет        кафе   \n",
       "\n",
       "                                                 address  number  \n",
       "10756     город Москва, Лесная улица, дом 55, строение 1      45  \n",
       "10552         город Москва, Токмаков переулок, дом 12/20      40  \n",
       "12458        город Москва, город Зеленоград, корпус 1130       7  \n",
       "272                 город Москва, Тверская улица, дом 17     144  \n",
       "11705  город Москва, Пресненская набережная, дом 6, с...       7  "
      ]
     },
     "execution_count": 4,
     "metadata": {},
     "output_type": "execute_result"
    }
   ],
   "source": [
    "# типы данны, общий вид - случайная выборка из 5 строк\n",
    "rest.info()\n",
    "rest.sample(5)"
   ]
  },
  {
   "cell_type": "code",
   "execution_count": 5,
   "metadata": {},
   "outputs": [
    {
     "data": {
      "text/plain": [
       "id             15366\n",
       "object_name    10393\n",
       "chain              2\n",
       "object_type        9\n",
       "address         9108\n",
       "number           315\n",
       "dtype: int64"
      ]
     },
     "execution_count": 5,
     "metadata": {},
     "output_type": "execute_result"
    }
   ],
   "source": [
    "rest.nunique()"
   ]
  },
  {
   "cell_type": "markdown",
   "metadata": {},
   "source": [
    "`chain`, `object_type` категорийные признаки, какие категории есть?"
   ]
  },
  {
   "cell_type": "code",
   "execution_count": 6,
   "metadata": {},
   "outputs": [
    {
     "data": {
      "text/plain": [
       "['бар',\n",
       " 'буфет',\n",
       " 'закусочная',\n",
       " 'кафе',\n",
       " 'кафетерий',\n",
       " 'магазин (отдел кулинарии)',\n",
       " 'предприятие быстрого обслуживания',\n",
       " 'ресторан',\n",
       " 'столовая']"
      ]
     },
     "execution_count": 6,
     "metadata": {},
     "output_type": "execute_result"
    }
   ],
   "source": [
    "rest['object_type'].sort_values().unique().tolist()"
   ]
  },
  {
   "cell_type": "code",
   "execution_count": 7,
   "metadata": {},
   "outputs": [
    {
     "data": {
      "text/plain": [
       "id             0\n",
       "object_name    0\n",
       "chain          0\n",
       "object_type    0\n",
       "address        0\n",
       "number         0\n",
       "dtype: int64"
      ]
     },
     "execution_count": 7,
     "metadata": {},
     "output_type": "execute_result"
    }
   ],
   "source": [
    "# пропуски\n",
    "rest.isnull().sum()"
   ]
  },
  {
   "cell_type": "code",
   "execution_count": 8,
   "metadata": {},
   "outputs": [
    {
     "data": {
      "text/plain": [
       "0"
      ]
     },
     "execution_count": 8,
     "metadata": {},
     "output_type": "execute_result"
    }
   ],
   "source": [
    "# дубликаты\n",
    "rest.duplicated().sum()"
   ]
  },
  {
   "cell_type": "code",
   "execution_count": 9,
   "metadata": {},
   "outputs": [
    {
     "data": {
      "text/plain": [
       "Столовая                                 267\n",
       "Кафе                                     236\n",
       "Шаурма                                   234\n",
       "KFC                                      155\n",
       "                                        ... \n",
       "Предприятие быстрого питания «ЭкоДом»      1\n",
       "Кафе «Чемпион»                             1\n",
       "Пельменчик                                 1\n",
       "Нептун                                     1\n",
       "Name: object_name, Length: 10393, dtype: int64"
      ]
     },
     "execution_count": 9,
     "metadata": {},
     "output_type": "execute_result"
    }
   ],
   "source": [
    "# одноименные заведения, сколько их\n",
    "rest['object_name'].value_counts()"
   ]
  },
  {
   "cell_type": "code",
   "execution_count": 10,
   "metadata": {},
   "outputs": [
    {
     "data": {
      "text/html": [
       "<div>\n",
       "<style scoped>\n",
       "    .dataframe tbody tr th:only-of-type {\n",
       "        vertical-align: middle;\n",
       "    }\n",
       "\n",
       "    .dataframe tbody tr th {\n",
       "        vertical-align: top;\n",
       "    }\n",
       "\n",
       "    .dataframe thead th {\n",
       "        text-align: right;\n",
       "    }\n",
       "</style>\n",
       "<table border=\"1\" class=\"dataframe\">\n",
       "  <thead>\n",
       "    <tr style=\"text-align: right;\">\n",
       "      <th></th>\n",
       "      <th>id</th>\n",
       "      <th>object_name</th>\n",
       "      <th>chain</th>\n",
       "      <th>object_type</th>\n",
       "      <th>address</th>\n",
       "      <th>number</th>\n",
       "    </tr>\n",
       "  </thead>\n",
       "  <tbody>\n",
       "    <tr>\n",
       "      <th>61</th>\n",
       "      <td>21214</td>\n",
       "      <td>Столовая</td>\n",
       "      <td>нет</td>\n",
       "      <td>столовая</td>\n",
       "      <td>город Москва, Бабаевская улица, дом 3</td>\n",
       "      <td>90</td>\n",
       "    </tr>\n",
       "    <tr>\n",
       "      <th>438</th>\n",
       "      <td>154690</td>\n",
       "      <td>Столовая</td>\n",
       "      <td>нет</td>\n",
       "      <td>столовая</td>\n",
       "      <td>город Москва, Коломенская улица, дом 5</td>\n",
       "      <td>5</td>\n",
       "    </tr>\n",
       "  </tbody>\n",
       "</table>\n",
       "</div>"
      ],
      "text/plain": [
       "         id object_name chain object_type  \\\n",
       "61    21214    Столовая   нет    столовая   \n",
       "438  154690    Столовая   нет    столовая   \n",
       "\n",
       "                                    address  number  \n",
       "61    город Москва, Бабаевская улица, дом 3      90  \n",
       "438  город Москва, Коломенская улица, дом 5       5  "
      ]
     },
     "execution_count": 10,
     "metadata": {},
     "output_type": "execute_result"
    }
   ],
   "source": [
    "# одноименные заведения\n",
    "rest.query('object_name== \"Столовая\"')[:2]"
   ]
  },
  {
   "cell_type": "code",
   "execution_count": 11,
   "metadata": {},
   "outputs": [],
   "source": [
    "# замена длинных названий\n",
    "rest['object_type'].replace('предприятие быстрого обслуживания', 'фастфуд', inplace=True)\n",
    "rest['object_type'].replace('магазин (отдел кулинарии)', 'магазин-кулинария', inplace=True)"
   ]
  },
  {
   "cell_type": "markdown",
   "metadata": {},
   "source": [
    "*Пропусков, дубликатов нет по численным признакам. По `object_name` есть дубликаты названия заведения, но удалять дубликаты нельзя, потому что разные адреса заведений. В поле адрес, \"улица\"  стит либо после названия улицы, либо перед, также есть расширенный адрес как например \"Москва, Киевское шоссе, 22 километр\" . Требует приведение к одному виду. Число посадочных мест равное 0, можно считать нормальным, если точка питания работает на вынос**"
   ]
  },
  {
   "cell_type": "markdown",
   "metadata": {},
   "source": [
    "## Cоотношение видов объектов общественного питания по количеству\n",
    "<a id=\"step1\"></a>\n",
    "[*Назад к оглавлению*](#Оглавление)"
   ]
  },
  {
   "cell_type": "code",
   "execution_count": 12,
   "metadata": {},
   "outputs": [],
   "source": [
    "# группировка по типу, агрегация, подсчет\n",
    "rest_types = rest \\\n",
    "                .groupby('object_type', as_index=False) \\\n",
    "                .agg({'id':'count'}) \\\n",
    "                .sort_values(by='id', ascending=False)\n",
    "rest_types.rename(columns={'id':'number'}, inplace=True)"
   ]
  },
  {
   "cell_type": "markdown",
   "metadata": {},
   "source": [
    "**график**"
   ]
  },
  {
   "cell_type": "code",
   "execution_count": 13,
   "metadata": {},
   "outputs": [
    {
     "data": {
      "image/png": "[encoded data removed]",
      "text/plain": [
       "<Figure size 675x450 with 1 Axes>"
      ]
     },
     "metadata": {
      "needs_background": "light"
     },
     "output_type": "display_data"
    }
   ],
   "source": [
    "# для презентации убраты подписи осей\n",
    "\n",
    "p = sns.countplot(data=rest, x = 'object_type')\\\n",
    "                .set(title='Распределение точек общепита по типу заведения'\\\n",
    "                     ,xlabel=''\\\n",
    "                     ,ylabel=''); \n",
    "\n",
    "plt.xticks(rotation=25, ha='right');\n",
    "plt.tight_layout()\n",
    "plt.savefig(\"Rest_type.png\",format='png',dpi=150)"
   ]
  },
  {
   "cell_type": "markdown",
   "metadata": {},
   "source": [
    "Видно, что среди точек питания  преобладает кафе, далее в одну группу по количеству точек можно выделить столовые, рестораны и фастфуд. На даном этапе преимущество кафе по количеству перед другими типами можно объяснить более низкими ценами , чем в ресторане, наличием комфорта по сравнению со столововымии и предприятиями фастфуда"
   ]
  },
  {
   "cell_type": "markdown",
   "metadata": {},
   "source": [
    "## Cоотношение сетевых и несетевых заведений по количеству\n",
    "<a id=\"step2\"></a>\n",
    "[*Назад к оглавлению*](#Оглавление)"
   ]
  },
  {
   "cell_type": "markdown",
   "metadata": {},
   "source": [
    "**группировка по сетевому признаку**"
   ]
  },
  {
   "cell_type": "code",
   "execution_count": 14,
   "metadata": {},
   "outputs": [
    {
     "data": {
      "text/html": [
       "<div>\n",
       "<style scoped>\n",
       "    .dataframe tbody tr th:only-of-type {\n",
       "        vertical-align: middle;\n",
       "    }\n",
       "\n",
       "    .dataframe tbody tr th {\n",
       "        vertical-align: top;\n",
       "    }\n",
       "\n",
       "    .dataframe thead th {\n",
       "        text-align: right;\n",
       "    }\n",
       "</style>\n",
       "<table border=\"1\" class=\"dataframe\">\n",
       "  <thead>\n",
       "    <tr style=\"text-align: right;\">\n",
       "      <th></th>\n",
       "      <th>chain</th>\n",
       "      <th>count</th>\n",
       "    </tr>\n",
       "  </thead>\n",
       "  <tbody>\n",
       "    <tr>\n",
       "      <th>1</th>\n",
       "      <td>не сетевая точка</td>\n",
       "      <td>12398</td>\n",
       "    </tr>\n",
       "    <tr>\n",
       "      <th>0</th>\n",
       "      <td>сетевая точка</td>\n",
       "      <td>2968</td>\n",
       "    </tr>\n",
       "  </tbody>\n",
       "</table>\n",
       "</div>"
      ],
      "text/plain": [
       "              chain  count\n",
       "1  не сетевая точка  12398\n",
       "0     сетевая точка   2968"
      ]
     },
     "execution_count": 14,
     "metadata": {},
     "output_type": "execute_result"
    }
   ],
   "source": [
    "rest_chain = rest \\\n",
    "        .groupby('chain', as_index=False)['id'] \\\n",
    "        .count().sort_values(by='id', ascending=False) \n",
    "rest_chain.rename(columns={'id':'count'}, inplace=True)\n",
    "rest_chain['chain'].replace({'нет': 'не сетевая точка', 'да':'сетевая точка'}, inplace=True, regex=True)\n",
    "rest_chain"
   ]
  },
  {
   "cell_type": "markdown",
   "metadata": {},
   "source": [
    "**строим график**"
   ]
  },
  {
   "cell_type": "code",
   "execution_count": 15,
   "metadata": {},
   "outputs": [
    {
     "data": {
      "image/png": "[encoded data removed]",
      "text/plain": [
       "<Figure size 675x450 with 1 Axes>"
      ]
     },
     "metadata": {},
     "output_type": "display_data"
    }
   ],
   "source": [
    "labels = rest_chain.chain;\n",
    "explode = (0.1, 0);\n",
    "\n",
    "fig, ax = plt.subplots();\n",
    "ax.pie(rest_chain['count'], explode=explode, labels=labels, autopct='%1.1f%%',\n",
    "        shadow=True, startangle=90);\n",
    "ax.axis('equal'); \n",
    "ax.set_title(\"Соотношение сетевых и не сетевых точек питания\")\n",
    "plt.show();\n",
    "fig.savefig(\"Rest_chain.png\",format='png',dpi=150);\n"
   ]
  },
  {
   "cell_type": "markdown",
   "metadata": {},
   "source": [
    "Сетевые точки общепита занимают 20% рынка. Абсолютное большинство за розничными точками питания"
   ]
  },
  {
   "cell_type": "markdown",
   "metadata": {},
   "source": [
    "## Объекты питания имеющие сетевое распространение\n",
    "<a id=\"step3\"></a>\n",
    "[*Назад к оглавлению*](#Оглавление)"
   ]
  },
  {
   "cell_type": "code",
   "execution_count": 16,
   "metadata": {},
   "outputs": [
    {
     "data": {
      "text/html": [
       "<div>\n",
       "<style scoped>\n",
       "    .dataframe tbody tr th:only-of-type {\n",
       "        vertical-align: middle;\n",
       "    }\n",
       "\n",
       "    .dataframe tbody tr th {\n",
       "        vertical-align: top;\n",
       "    }\n",
       "\n",
       "    .dataframe thead th {\n",
       "        text-align: right;\n",
       "    }\n",
       "</style>\n",
       "<table border=\"1\" class=\"dataframe\">\n",
       "  <thead>\n",
       "    <tr style=\"text-align: right;\">\n",
       "      <th></th>\n",
       "      <th>object_type</th>\n",
       "      <th>chain</th>\n",
       "      <th>number</th>\n",
       "    </tr>\n",
       "  </thead>\n",
       "  <tbody>\n",
       "    <tr>\n",
       "      <th>0</th>\n",
       "      <td>фастфуд</td>\n",
       "      <td>нет</td>\n",
       "      <td>1132</td>\n",
       "    </tr>\n",
       "    <tr>\n",
       "      <th>1</th>\n",
       "      <td>фастфуд</td>\n",
       "      <td>да</td>\n",
       "      <td>791</td>\n",
       "    </tr>\n",
       "    <tr>\n",
       "      <th>2</th>\n",
       "      <td>столовая</td>\n",
       "      <td>нет</td>\n",
       "      <td>2584</td>\n",
       "    </tr>\n",
       "    <tr>\n",
       "      <th>3</th>\n",
       "      <td>столовая</td>\n",
       "      <td>да</td>\n",
       "      <td>3</td>\n",
       "    </tr>\n",
       "  </tbody>\n",
       "</table>\n",
       "</div>"
      ],
      "text/plain": [
       "  object_type chain  number\n",
       "0     фастфуд   нет    1132\n",
       "1     фастфуд    да     791\n",
       "2    столовая   нет    2584\n",
       "3    столовая    да       3"
      ]
     },
     "execution_count": 16,
     "metadata": {},
     "output_type": "execute_result"
    }
   ],
   "source": [
    "# группировка по типу точки и типу сети, агрегация, подсчет\n",
    "rest_types = rest \\\n",
    "                .groupby(['object_type' , 'chain'], as_index=False) \\\n",
    "                .agg({'id':'count'}) \\\n",
    "                .sort_values(by='object_type', ascending=False) \\\n",
    "                .reset_index()\n",
    "rest_types.rename(columns={'id':'number'}, inplace=True)\n",
    "del rest_types['index']\n",
    "rest_types[:4]"
   ]
  },
  {
   "cell_type": "code",
   "execution_count": 17,
   "metadata": {
    "scrolled": false
   },
   "outputs": [
    {
     "data": {
      "image/png": "[encoded data removed]",
      "text/plain": [
       "<Figure size 675x450 with 1 Axes>"
      ]
     },
     "metadata": {
      "needs_background": "light"
     },
     "output_type": "display_data"
    }
   ],
   "source": [
    "fig, ax = plt.subplots();\n",
    "sns.countplot(data=rest, y=\"object_type\", hue=\"chain\", palette=\"muted\", ax=ax)\\\n",
    "                .set(title='Распределение объектов питания по признаку \"сетевой\", \"не сетевой\"'\\\n",
    "                     ,ylabel='');\n",
    "\n",
    "sns.despine(ax=ax, right=True);\n",
    "ax.set_xlabel(\"количество заведений\", fontsize=12);\n",
    "l = ax.legend();\n",
    "l.set_title('Сетевой объект питания');\n",
    "#fig.show();\n",
    "\n",
    "plt.xticks(rotation=0, ha='right', fontsize=12);\n",
    "plt.yticks(rotation=0, ha='right', fontsize=12);\n",
    "plt.tight_layout()\n",
    "plt.savefig(\"Rest_chain_unchain.png\",format='png',dpi=150);"
   ]
  },
  {
   "cell_type": "code",
   "execution_count": 18,
   "metadata": {},
   "outputs": [
    {
     "data": {
      "text/html": [
       "<div>\n",
       "<style scoped>\n",
       "    .dataframe tbody tr th:only-of-type {\n",
       "        vertical-align: middle;\n",
       "    }\n",
       "\n",
       "    .dataframe tbody tr th {\n",
       "        vertical-align: top;\n",
       "    }\n",
       "\n",
       "    .dataframe thead th {\n",
       "        text-align: right;\n",
       "    }\n",
       "</style>\n",
       "<table border=\"1\" class=\"dataframe\">\n",
       "  <thead>\n",
       "    <tr style=\"text-align: right;\">\n",
       "      <th></th>\n",
       "      <th>object_type</th>\n",
       "      <th>chain</th>\n",
       "      <th>number</th>\n",
       "      <th>size</th>\n",
       "      <th>ratio</th>\n",
       "    </tr>\n",
       "  </thead>\n",
       "  <tbody>\n",
       "    <tr>\n",
       "      <th>0</th>\n",
       "      <td>фастфуд</td>\n",
       "      <td>нет</td>\n",
       "      <td>1132</td>\n",
       "      <td>1923</td>\n",
       "      <td>0.59</td>\n",
       "    </tr>\n",
       "    <tr>\n",
       "      <th>1</th>\n",
       "      <td>фастфуд</td>\n",
       "      <td>да</td>\n",
       "      <td>791</td>\n",
       "      <td>1923</td>\n",
       "      <td>0.41</td>\n",
       "    </tr>\n",
       "    <tr>\n",
       "      <th>2</th>\n",
       "      <td>столовая</td>\n",
       "      <td>нет</td>\n",
       "      <td>2584</td>\n",
       "      <td>2587</td>\n",
       "      <td>1.00</td>\n",
       "    </tr>\n",
       "    <tr>\n",
       "      <th>3</th>\n",
       "      <td>столовая</td>\n",
       "      <td>да</td>\n",
       "      <td>3</td>\n",
       "      <td>2587</td>\n",
       "      <td>0.00</td>\n",
       "    </tr>\n",
       "  </tbody>\n",
       "</table>\n",
       "</div>"
      ],
      "text/plain": [
       "  object_type chain  number  size  ratio\n",
       "0     фастфуд   нет    1132  1923   0.59\n",
       "1     фастфуд    да     791  1923   0.41\n",
       "2    столовая   нет    2584  2587   1.00\n",
       "3    столовая    да       3  2587   0.00"
      ]
     },
     "execution_count": 18,
     "metadata": {},
     "output_type": "execute_result"
    }
   ],
   "source": [
    "# Соотношение сетевых и несетевых для каждого типа заведения\n",
    "rest_ratio = []\n",
    "for j in rest_types['object_type']:\n",
    "    rest_ratio.append(rest_types[rest_types['object_type']==j]['number'].sum())\n",
    "rest_types['size'] = rest_ratio\n",
    "rest_types['ratio'] = rest_types['number']/rest_types['size']\n",
    "rest_types[:4]"
   ]
  },
  {
   "cell_type": "code",
   "execution_count": 19,
   "metadata": {},
   "outputs": [],
   "source": [
    "rest_types = rest_types[(rest_types['ratio'] > 0.05) & (rest_types['ratio'] < 0.95)]"
   ]
  },
  {
   "cell_type": "code",
   "execution_count": 20,
   "metadata": {},
   "outputs": [
    {
     "data": {
      "image/png": "[encoded data removed]",
      "text/plain": [
       "<Figure size 675x450 with 1 Axes>"
      ]
     },
     "metadata": {
      "needs_background": "light"
     },
     "output_type": "display_data"
    }
   ],
   "source": [
    "fig, ax = plt.subplots();\n",
    "sns.barplot(x = 'object_type', y = 'ratio', data = rest_types, hue=\"chain\")\\\n",
    "            .set(title='Соотношение сетевых и нестевых заведений'\\\n",
    "                 ,xlabel=''\\\n",
    "                 ,ylabel='');\n",
    "\n",
    "sns.despine(ax=ax, right=True);\n",
    "l = ax.legend();\n",
    "l.set_title('Сетевой объект питания');\n",
    "#fig.show();\n",
    "plt.xticks(rotation=345, ha='left', fontsize=10); \n",
    "fig.savefig(\"Rest_rataio.png\",format='png',dpi=300);"
   ]
  },
  {
   "cell_type": "markdown",
   "metadata": {},
   "source": [
    "Среди сетевых точек питания лидирует кафе и фастфуд. Среди типов точек питания преобладают несетевые продавцы, однако фастфуд почти 50% на 50% делится на сетевые маркеты и розничные точки питания. Остальные типы в пропорции 1:5, бары и буфеты среди сетевых отсутствуют"
   ]
  },
  {
   "cell_type": "markdown",
   "metadata": {},
   "source": [
    "## Иссследование сетевых заведений\n",
    "<a id=\"step4\"></a>\n",
    "[*Назад к оглавлению*](#Оглавление)"
   ]
  },
  {
   "cell_type": "markdown",
   "metadata": {},
   "source": [
    "**Распредедение по числу мест в среднем  в сетевых заведениях**"
   ]
  },
  {
   "cell_type": "code",
   "execution_count": 21,
   "metadata": {},
   "outputs": [
    {
     "name": "stderr",
     "output_type": "stream",
     "text": [
      "c:\\users\\av_zaslonyuk\\appdata\\local\\programs\\python\\python37\\lib\\site-packages\\seaborn\\distributions.py:2557: FutureWarning: `distplot` is a deprecated function and will be removed in a future version. Please adapt your code to use either `displot` (a figure-level function with similar flexibility) or `histplot` (an axes-level function for histograms).\n",
      "  warnings.warn(msg, FutureWarning)\n"
     ]
    },
    {
     "data": {
      "image/png": "[encoded data removed]",
      "text/plain": [
       "<Figure size 675x450 with 1 Axes>"
      ]
     },
     "metadata": {
      "needs_background": "light"
     },
     "output_type": "display_data"
    }
   ],
   "source": [
    "# предприятия сетевого питания\n",
    "# грани убраны, для печати\n",
    "\n",
    "#plt.style.use('dark_background')\n",
    "fig, ax = plt.subplots();\n",
    "sns.distplot(rest[rest['chain'] == \"да\"]['number']\\\n",
    "             , kde=False\\\n",
    "             , bins=25\\\n",
    "             , color='blue', ax=ax)\\\n",
    "        .set(title='Сетевые объекты питания по числу мест'\\\n",
    "                     ,xlabel='Количество мест'\\\n",
    "                     ,ylabel='Количество заведений');\n",
    "l = ax.legend(' ');\n",
    "sns.despine(ax=ax, right=True);\n",
    "#sns.despine(ax=ax, left=True);\n",
    "l.set_title('распределение заведений по числу мест');\n",
    "plt.savefig(\"Rest_chain_place.png\",format='png',dpi=150);"
   ]
  },
  {
   "cell_type": "code",
   "execution_count": 22,
   "metadata": {
    "scrolled": true
   },
   "outputs": [
    {
     "name": "stdout",
     "output_type": "stream",
     "text": [
      "число улиц с количеством точек общепита равным 1: 2968\n"
     ]
    }
   ],
   "source": [
    "print(f\"число улиц с количеством точек общепита равным 1: {rest[rest['chain'] == 'да'].shape[0]}\")"
   ]
  },
  {
   "cell_type": "markdown",
   "metadata": {},
   "source": [
    "Для сетевых заведений характерно большое число заведений с малым числом мест, более 50% от общего числа заведения с числом мест не превышающим 50"
   ]
  },
  {
   "cell_type": "markdown",
   "metadata": {},
   "source": [
    "## Исследование видов объектов общепита по числу мест\n",
    "<a id=\"step5\"></a>\n",
    "[*Назад к оглавлению*](#Оглавление)"
   ]
  },
  {
   "cell_type": "code",
   "execution_count": 23,
   "metadata": {},
   "outputs": [],
   "source": [
    "placeses = rest\\\n",
    "        .groupby('object_type', as_index=False)\\\n",
    "        .agg({'number':'mean'})\\\n",
    "        .sort_values(by='number', ascending=False)\n",
    "\n"
   ]
  },
  {
   "cell_type": "code",
   "execution_count": 24,
   "metadata": {},
   "outputs": [
    {
     "data": {
      "image/png": "[encoded data removed]",
      "text/plain": [
       "<Figure size 675x450 with 1 Axes>"
      ]
     },
     "metadata": {
      "needs_background": "light"
     },
     "output_type": "display_data"
    }
   ],
   "source": [
    "fig, ax = plt.subplots();\n",
    "sns.barplot(x = 'object_type', y = 'number', data = placeses, ci = 0)\\\n",
    "            .set(title='Вместимость зала разных заведений питания'\\\n",
    "                 ,xlabel=''\\\n",
    "                 ,ylabel='число мест в зале');\n",
    "\n",
    "plt.xticks(rotation=345, ha='left');\n",
    "plt.tight_layout();\n",
    "#plt.tight_layout();\n",
    "plt.savefig(\"Rest_number_place.png\",format='png',dpi=150);"
   ]
  },
  {
   "cell_type": "markdown",
   "metadata": {},
   "source": [
    "Столовые и рестораны лидируют по числу посадочных мест в среднем по городу Москва. Что объяснимо, столовая имет высокую пропускную способность,а ресторан "
   ]
  },
  {
   "cell_type": "markdown",
   "metadata": {},
   "source": [
    "## Выделение адреса точки питания\n",
    "<a id=\"step6\"></a>\n",
    "[*Назад к оглавлению*](#Оглавление)"
   ]
  },
  {
   "cell_type": "markdown",
   "metadata": {},
   "source": [
    "Возможные сочетания с названием "
   ]
  },
  {
   "cell_type": "code",
   "execution_count": 25,
   "metadata": {},
   "outputs": [
    {
     "data": {
      "text/html": [
       "<div>\n",
       "<style scoped>\n",
       "    .dataframe tbody tr th:only-of-type {\n",
       "        vertical-align: middle;\n",
       "    }\n",
       "\n",
       "    .dataframe tbody tr th {\n",
       "        vertical-align: top;\n",
       "    }\n",
       "\n",
       "    .dataframe thead th {\n",
       "        text-align: right;\n",
       "    }\n",
       "</style>\n",
       "<table border=\"1\" class=\"dataframe\">\n",
       "  <thead>\n",
       "    <tr style=\"text-align: right;\">\n",
       "      <th></th>\n",
       "      <th>id</th>\n",
       "      <th>object_name</th>\n",
       "      <th>chain</th>\n",
       "      <th>object_type</th>\n",
       "      <th>address</th>\n",
       "      <th>number</th>\n",
       "      <th>street</th>\n",
       "    </tr>\n",
       "  </thead>\n",
       "  <tbody>\n",
       "    <tr>\n",
       "      <th>8161</th>\n",
       "      <td>137704</td>\n",
       "      <td>Бургер герой пивной бар</td>\n",
       "      <td>нет</td>\n",
       "      <td>бар</td>\n",
       "      <td>город Москва, улица Большая Ордынка, дом 19, с...</td>\n",
       "      <td>76</td>\n",
       "      <td>улица Большая Ордынка</td>\n",
       "    </tr>\n",
       "    <tr>\n",
       "      <th>13100</th>\n",
       "      <td>197385</td>\n",
       "      <td>Ребро Адама</td>\n",
       "      <td>нет</td>\n",
       "      <td>кафе</td>\n",
       "      <td>город Москва, Мытная улица, дом 74</td>\n",
       "      <td>10</td>\n",
       "      <td>Мытная улица</td>\n",
       "    </tr>\n",
       "    <tr>\n",
       "      <th>5856</th>\n",
       "      <td>28874</td>\n",
       "      <td>школа 1986</td>\n",
       "      <td>нет</td>\n",
       "      <td>буфет</td>\n",
       "      <td>город Москва, Новороссийская улица, дом 36</td>\n",
       "      <td>240</td>\n",
       "      <td>Новороссийская улица</td>\n",
       "    </tr>\n",
       "  </tbody>\n",
       "</table>\n",
       "</div>"
      ],
      "text/plain": [
       "           id              object_name chain object_type  \\\n",
       "8161   137704  Бургер герой пивной бар   нет         бар   \n",
       "13100  197385              Ребро Адама   нет        кафе   \n",
       "5856    28874               школа 1986   нет       буфет   \n",
       "\n",
       "                                                 address  number  \\\n",
       "8161   город Москва, улица Большая Ордынка, дом 19, с...      76   \n",
       "13100                 город Москва, Мытная улица, дом 74      10   \n",
       "5856          город Москва, Новороссийская улица, дом 36     240   \n",
       "\n",
       "                      street  \n",
       "8161   улица Большая Ордынка  \n",
       "13100           Мытная улица  \n",
       "5856    Новороссийская улица  "
      ]
     },
     "execution_count": 25,
     "metadata": {},
     "output_type": "execute_result"
    }
   ],
   "source": [
    "words = ['улица','переулок','шоссе','проспект','площадь','проезд',\n",
    "         'село','аллея','бульвар','набережная','тупик','линия']\n",
    "\n",
    "str_pat = r\".*,\\s*\\b([^,]*?(?:{})\\b[^,]*)[,$]+\".format(\"|\".join(words))\n",
    "\n",
    "rest[\"street\"] = rest[\"address\"].str.extract(str_pat, flags=re.IGNORECASE)\n",
    "rest.sample(3)"
   ]
  },
  {
   "cell_type": "markdown",
   "metadata": {},
   "source": [
    "## Топ-10 улиц по количеству объектов общественного питания\n",
    "<a id=\"step7\"></a>\n",
    "[*Назад к оглавлению*](#Оглавление)"
   ]
  },
  {
   "cell_type": "markdown",
   "metadata": {},
   "source": [
    "график топ-10 улиц по количеству объектов общественного питания"
   ]
  },
  {
   "cell_type": "code",
   "execution_count": 26,
   "metadata": {},
   "outputs": [],
   "source": [
    "# Список ТОП-10 улиц\n",
    "top10 = rest \\\n",
    "        .groupby('street',as_index=False)\\\n",
    "        .agg({'id':'count'}) \\\n",
    "        .sort_values(by='id', ascending=False)\\\n",
    "        .head(10).reset_index()"
   ]
  },
  {
   "cell_type": "code",
   "execution_count": 27,
   "metadata": {},
   "outputs": [
    {
     "data": {
      "image/png": "[encoded data removed]",
      "text/plain": [
       "<Figure size 675x450 with 1 Axes>"
      ]
     },
     "metadata": {
      "needs_background": "light"
     },
     "output_type": "display_data"
    }
   ],
   "source": [
    "# ТОП-10 улиц по численности объектов\n",
    "fig, ax = plt.subplots();\n",
    "\n",
    "sns.barplot(data=top10, x = 'street', y = 'id', ci = 0)\\\n",
    "                .set(title='ТОП-10 улиц по количеству точек птитания'\\\n",
    "                     ,xlabel=''\\\n",
    "                     ,ylabel='число объектов');\n",
    "\n",
    "plt.xticks(rotation=25, ha='right');\n",
    "plt.tight_layout()\n",
    "plt.savefig(\"Rest_street.png\",format='png',dpi=300)"
   ]
  },
  {
   "cell_type": "markdown",
   "metadata": {},
   "source": [
    "Максимальная плотность точек общепита достигается yна радиусах, улицах, которые соединияют ТТК и МКАД в основном Южный, Западный и Юго-Западный районый Москвы"
   ]
  },
  {
   "cell_type": "markdown",
   "metadata": {},
   "source": [
    "## Расположение районов с малой плотностью точек общепита\n",
    "<a id=\"step8\"></a>\n",
    "[*Назад к оглавлению*](#Оглавление)"
   ]
  },
  {
   "cell_type": "code",
   "execution_count": 28,
   "metadata": {},
   "outputs": [
    {
     "name": "stdout",
     "output_type": "stream",
     "text": [
      "число улиц с количеством точек общепита равным 1: 551\n"
     ]
    }
   ],
   "source": [
    "# группировка по улице, агрегация, подсчет \n",
    "rest_1 = rest \\\n",
    "        .groupby('street', as_index=False)\\\n",
    "        .agg({'id':'count'}).sort_values(by='id', ascending=False)\n",
    "rest_1 = rest_1[rest_1['id']==1]\n",
    "print(f\"число улиц с количеством точек общепита равным 1: {rest_1[rest_1['id'] == 1].shape[0]}\")"
   ]
  },
  {
   "cell_type": "code",
   "execution_count": 29,
   "metadata": {},
   "outputs": [
    {
     "data": {
      "text/html": [
       "<div>\n",
       "<style scoped>\n",
       "    .dataframe tbody tr th:only-of-type {\n",
       "        vertical-align: middle;\n",
       "    }\n",
       "\n",
       "    .dataframe tbody tr th {\n",
       "        vertical-align: top;\n",
       "    }\n",
       "\n",
       "    .dataframe thead th {\n",
       "        text-align: right;\n",
       "    }\n",
       "</style>\n",
       "<table border=\"1\" class=\"dataframe\">\n",
       "  <thead>\n",
       "    <tr style=\"text-align: right;\">\n",
       "      <th></th>\n",
       "      <th>street</th>\n",
       "      <th>id</th>\n",
       "    </tr>\n",
       "  </thead>\n",
       "  <tbody>\n",
       "    <tr>\n",
       "      <th>171</th>\n",
       "      <td>3-я Песчаная улица</td>\n",
       "      <td>1</td>\n",
       "    </tr>\n",
       "    <tr>\n",
       "      <th>139</th>\n",
       "      <td>2-я Филёвская улица</td>\n",
       "      <td>1</td>\n",
       "    </tr>\n",
       "    <tr>\n",
       "      <th>169</th>\n",
       "      <td>3-я Новоостанкинская улица</td>\n",
       "      <td>1</td>\n",
       "    </tr>\n",
       "    <tr>\n",
       "      <th>149</th>\n",
       "      <td>3-й Кадашёвский переулок</td>\n",
       "      <td>1</td>\n",
       "    </tr>\n",
       "    <tr>\n",
       "      <th>...</th>\n",
       "      <td>...</td>\n",
       "      <td>...</td>\n",
       "    </tr>\n",
       "    <tr>\n",
       "      <th>1486</th>\n",
       "      <td>улица Благуша</td>\n",
       "      <td>1</td>\n",
       "    </tr>\n",
       "    <tr>\n",
       "      <th>1487</th>\n",
       "      <td>улица Богданова</td>\n",
       "      <td>1</td>\n",
       "    </tr>\n",
       "    <tr>\n",
       "      <th>1488</th>\n",
       "      <td>улица Богородский Вал</td>\n",
       "      <td>1</td>\n",
       "    </tr>\n",
       "    <tr>\n",
       "      <th>952</th>\n",
       "      <td>Песчаный переулок</td>\n",
       "      <td>1</td>\n",
       "    </tr>\n",
       "  </tbody>\n",
       "</table>\n",
       "<p>551 rows × 2 columns</p>\n",
       "</div>"
      ],
      "text/plain": [
       "                          street  id\n",
       "171           3-я Песчаная улица   1\n",
       "139          2-я Филёвская улица   1\n",
       "169   3-я Новоостанкинская улица   1\n",
       "149     3-й Кадашёвский переулок   1\n",
       "...                          ...  ..\n",
       "1486               улица Благуша   1\n",
       "1487             улица Богданова   1\n",
       "1488       улица Богородский Вал   1\n",
       "952            Песчаный переулок   1\n",
       "\n",
       "[551 rows x 2 columns]"
      ]
     },
     "execution_count": 29,
     "metadata": {},
     "output_type": "execute_result"
    }
   ],
   "source": [
    "rest_1"
   ]
  },
  {
   "cell_type": "markdown",
   "metadata": {},
   "source": [
    "Улицы, на которых расположена одна точка общепита это небольшие улицы в основном в центре города"
   ]
  },
  {
   "cell_type": "markdown",
   "metadata": {},
   "source": [
    "таблица улиц Москвы: https://docs.google.com/spreadsheets/d/1U1QGl6mDzV6DBFLDq4oH91SRprV93KFWJ3mcippMPug/edit?usp=sharing\n",
    "\n",
    "\n",
    "коды районов: https://docs.google.com/spreadsheets/d/1MSvKjSfhO3LTKRcLUSEpfpFsHkGF_9o7rmnPbEmKRwQ/edit?usp=sharing\n",
    "\n",
    "\n",
    "\n",
    "Объектами классификации в ОМК УМ являются линейные транспортные объекты, имеющие наименования и расположенные (полностью или частично) на территории города Москвы (далее – улицы Москвы), а именно: улицы, переулки, проезды, проектируемые (номерные) проезды, площади, набережные, шоссе, тупики, бульвары, аллеи, проспекты, просеки, линии, мосты, путепроводы, эстакады, тоннели, а также - километровые участки автодорог (в том числе, кольцевых) и трасс федерального значения.\n",
    "\n",
    "\n",
    "- \"Код ОМК ТЕ\" (графа 6 перечня позиций раздела). Содержит код района / поселения из ОМК ТЕ, на территории которого расположен соответствующий объект классификации. В том случае, если объект классификации расположен на территории нескольких районов / поселений города Москвы, в данном поле содержатся все соответствующие коды по ОМК ТЕ, при этом между этими кодами устанавливается синтаксический разделитель - символ \"точка с запятой\";\n"
   ]
  },
  {
   "cell_type": "code",
   "execution_count": 30,
   "metadata": {},
   "outputs": [
    {
     "data": {
      "text/html": [
       "<div>\n",
       "<style scoped>\n",
       "    .dataframe tbody tr th:only-of-type {\n",
       "        vertical-align: middle;\n",
       "    }\n",
       "\n",
       "    .dataframe tbody tr th {\n",
       "        vertical-align: top;\n",
       "    }\n",
       "\n",
       "    .dataframe thead th {\n",
       "        text-align: right;\n",
       "    }\n",
       "</style>\n",
       "<table border=\"1\" class=\"dataframe\">\n",
       "  <thead>\n",
       "    <tr style=\"text-align: right;\">\n",
       "      <th></th>\n",
       "      <th>UM_CODE</th>\n",
       "      <th>UM_NAMEF</th>\n",
       "      <th>global_id</th>\n",
       "      <th>UM_NAMES</th>\n",
       "      <th>UM_TRANS</th>\n",
       "      <th>UM_TYPE</th>\n",
       "      <th>UM_TM</th>\n",
       "      <th>UM_TE</th>\n",
       "      <th>UM_KLADR</th>\n",
       "    </tr>\n",
       "  </thead>\n",
       "  <tbody>\n",
       "    <tr>\n",
       "      <th>0</th>\n",
       "      <td>008880</td>\n",
       "      <td>1-й Ирининский переулок</td>\n",
       "      <td>58481065</td>\n",
       "      <td>1-й Ирининский пер.</td>\n",
       "      <td>Pervy'j Irininskij pereulok</td>\n",
       "      <td>002</td>\n",
       "      <td>NaN</td>\n",
       "      <td>0102</td>\n",
       "      <td>77000000000706300</td>\n",
       "    </tr>\n",
       "    <tr>\n",
       "      <th>1</th>\n",
       "      <td>008890</td>\n",
       "      <td>2-й Ирининский переулок</td>\n",
       "      <td>58481066</td>\n",
       "      <td>2-й Ирининский пер.</td>\n",
       "      <td>Vtoroj Irininskij pereulok</td>\n",
       "      <td>002</td>\n",
       "      <td>NaN</td>\n",
       "      <td>0102</td>\n",
       "      <td>77000000000362200</td>\n",
       "    </tr>\n",
       "  </tbody>\n",
       "</table>\n",
       "</div>"
      ],
      "text/plain": [
       "  UM_CODE                 UM_NAMEF global_id             UM_NAMES  \\\n",
       "0  008880  1-й Ирининский переулок  58481065  1-й Ирининский пер.   \n",
       "1  008890  2-й Ирининский переулок  58481066  2-й Ирининский пер.   \n",
       "\n",
       "                      UM_TRANS UM_TYPE UM_TM UM_TE           UM_KLADR  \n",
       "0  Pervy'j Irininskij pereulok     002   NaN  0102  77000000000706300  \n",
       "1   Vtoroj Irininskij pereulok     002   NaN  0102  77000000000362200  "
      ]
     },
     "execution_count": 30,
     "metadata": {},
     "output_type": "execute_result"
    }
   ],
   "source": [
    "from io import BytesIO\n",
    "import requests\n",
    "spreadsheet_id = \"1U1QGl6mDzV6DBFLDq4oH91SRprV93KFWJ3mcippMPug\"\n",
    "file_name = 'https://docs.google.com/spreadsheets/d/{}/export?format=csv'.format(spreadsheet_id)\n",
    "r = requests.get(file_name)\n",
    "streets = pd.read_csv(BytesIO(r.content))\n",
    "streets[:2]"
   ]
  },
  {
   "cell_type": "code",
   "execution_count": 31,
   "metadata": {},
   "outputs": [],
   "source": [
    "# -dbg- \n",
    "# streets['UM_NAMES'].unique()\n",
    "# streets[streets['UM_NAMES'].str.contains(\"ш\", regex=False)]"
   ]
  },
  {
   "cell_type": "code",
   "execution_count": 32,
   "metadata": {},
   "outputs": [
    {
     "name": "stderr",
     "output_type": "stream",
     "text": [
      "c:\\users\\av_zaslonyuk\\appdata\\local\\programs\\python\\python37\\lib\\site-packages\\ipykernel_launcher.py:4: FutureWarning: The default value of regex will change from True to False in a future version.\n",
      "  after removing the cwd from sys.path.\n",
      "c:\\users\\av_zaslonyuk\\appdata\\local\\programs\\python\\python37\\lib\\site-packages\\ipykernel_launcher.py:5: FutureWarning: The default value of regex will change from True to False in a future version.\n",
      "  \"\"\"\n",
      "c:\\users\\av_zaslonyuk\\appdata\\local\\programs\\python\\python37\\lib\\site-packages\\ipykernel_launcher.py:6: FutureWarning: The default value of regex will change from True to False in a future version.\n",
      "  \n"
     ]
    },
    {
     "data": {
      "text/html": [
       "<div>\n",
       "<style scoped>\n",
       "    .dataframe tbody tr th:only-of-type {\n",
       "        vertical-align: middle;\n",
       "    }\n",
       "\n",
       "    .dataframe tbody tr th {\n",
       "        vertical-align: top;\n",
       "    }\n",
       "\n",
       "    .dataframe thead th {\n",
       "        text-align: right;\n",
       "    }\n",
       "</style>\n",
       "<table border=\"1\" class=\"dataframe\">\n",
       "  <thead>\n",
       "    <tr style=\"text-align: right;\">\n",
       "      <th></th>\n",
       "      <th>UM_CODE</th>\n",
       "      <th>UM_NAMEF</th>\n",
       "      <th>global_id</th>\n",
       "      <th>UM_NAMES</th>\n",
       "      <th>UM_TRANS</th>\n",
       "      <th>UM_TYPE</th>\n",
       "      <th>UM_TM</th>\n",
       "      <th>UM_TE</th>\n",
       "      <th>UM_KLADR</th>\n",
       "    </tr>\n",
       "  </thead>\n",
       "  <tbody>\n",
       "    <tr>\n",
       "      <th>3718</th>\n",
       "      <td>048155</td>\n",
       "      <td>Уренгойская улица</td>\n",
       "      <td>58484840</td>\n",
       "      <td>Уренгойская улица</td>\n",
       "      <td>Urengojskaya ulicza</td>\n",
       "      <td>001</td>\n",
       "      <td>734910</td>\n",
       "      <td>1104</td>\n",
       "      <td>77007000005002000</td>\n",
       "    </tr>\n",
       "    <tr>\n",
       "      <th>3658</th>\n",
       "      <td>047855</td>\n",
       "      <td>Ключевая улица</td>\n",
       "      <td>58484780</td>\n",
       "      <td>Ключевая улица</td>\n",
       "      <td>Klyuchevaya ulicza</td>\n",
       "      <td>001</td>\n",
       "      <td>735960</td>\n",
       "      <td>1207</td>\n",
       "      <td>77014000030000300</td>\n",
       "    </tr>\n",
       "    <tr>\n",
       "      <th>96</th>\n",
       "      <td>009815</td>\n",
       "      <td>Каширский проезд</td>\n",
       "      <td>58481165</td>\n",
       "      <td>Кашоссерский пр.</td>\n",
       "      <td>Kashirskij proezd</td>\n",
       "      <td>003</td>\n",
       "      <td>NaN</td>\n",
       "      <td>0612;0613</td>\n",
       "      <td>77000000000049500</td>\n",
       "    </tr>\n",
       "    <tr>\n",
       "      <th>2677</th>\n",
       "      <td>042920</td>\n",
       "      <td>Солнечная улица</td>\n",
       "      <td>58483794</td>\n",
       "      <td>Солнечная улица</td>\n",
       "      <td>Solnechnaya ulicza</td>\n",
       "      <td>001</td>\n",
       "      <td>734640</td>\n",
       "      <td>1202</td>\n",
       "      <td>77005000003002500</td>\n",
       "    </tr>\n",
       "    <tr>\n",
       "      <th>2382</th>\n",
       "      <td>031570</td>\n",
       "      <td>проезд Шломина</td>\n",
       "      <td>58483486</td>\n",
       "      <td>пр. Шломина</td>\n",
       "      <td>proezd Shlomina</td>\n",
       "      <td>003</td>\n",
       "      <td>NaN</td>\n",
       "      <td>0101</td>\n",
       "      <td>77000000000707300</td>\n",
       "    </tr>\n",
       "  </tbody>\n",
       "</table>\n",
       "</div>"
      ],
      "text/plain": [
       "     UM_CODE           UM_NAMEF global_id           UM_NAMES  \\\n",
       "3718  048155  Уренгойская улица  58484840  Уренгойская улица   \n",
       "3658  047855     Ключевая улица  58484780     Ключевая улица   \n",
       "96    009815   Каширский проезд  58481165   Кашоссерский пр.   \n",
       "2677  042920    Солнечная улица  58483794    Солнечная улица   \n",
       "2382  031570     проезд Шломина  58483486        пр. Шломина   \n",
       "\n",
       "                 UM_TRANS UM_TYPE   UM_TM      UM_TE           UM_KLADR  \n",
       "3718  Urengojskaya ulicza     001  734910       1104  77007000005002000  \n",
       "3658   Klyuchevaya ulicza     001  735960       1207  77014000030000300  \n",
       "96      Kashirskij proezd     003     NaN  0612;0613  77000000000049500  \n",
       "2677   Solnechnaya ulicza     001  734640       1202  77005000003002500  \n",
       "2382      proezd Shlomina     003     NaN       0101  77000000000707300  "
      ]
     },
     "execution_count": 32,
     "metadata": {},
     "output_type": "execute_result"
    }
   ],
   "source": [
    "# замена сокращений \n",
    "# ул <-> улиц\n",
    "# ш.<-> шоссе\n",
    "streets['UM_NAMES']=streets['UM_NAMES'].str.replace('ул.', 'улица')\n",
    "streets['UM_NAMES']=streets['UM_NAMES'].str.replace('просп.', 'проспект')\n",
    "streets['UM_NAMES']=streets['UM_NAMES'].str.replace('ш.', 'шоссе')\n",
    "streets.sample(5)"
   ]
  },
  {
   "cell_type": "code",
   "execution_count": 33,
   "metadata": {},
   "outputs": [
    {
     "data": {
      "text/html": [
       "<div>\n",
       "<style scoped>\n",
       "    .dataframe tbody tr th:only-of-type {\n",
       "        vertical-align: middle;\n",
       "    }\n",
       "\n",
       "    .dataframe tbody tr th {\n",
       "        vertical-align: top;\n",
       "    }\n",
       "\n",
       "    .dataframe thead th {\n",
       "        text-align: right;\n",
       "    }\n",
       "</style>\n",
       "<table border=\"1\" class=\"dataframe\">\n",
       "  <thead>\n",
       "    <tr style=\"text-align: right;\">\n",
       "      <th></th>\n",
       "      <th>UM_CODE</th>\n",
       "      <th>UM_NAMEF</th>\n",
       "      <th>global_id</th>\n",
       "      <th>UM_NAMES</th>\n",
       "      <th>UM_TRANS</th>\n",
       "      <th>UM_TYPE</th>\n",
       "      <th>UM_TM</th>\n",
       "      <th>UM_TE</th>\n",
       "      <th>UM_KLADR</th>\n",
       "    </tr>\n",
       "  </thead>\n",
       "  <tbody>\n",
       "    <tr>\n",
       "      <th>113</th>\n",
       "      <td>010040</td>\n",
       "      <td>Кировоградская улица</td>\n",
       "      <td>58481183</td>\n",
       "      <td>Кировоградская улица</td>\n",
       "      <td>Kirovogradskaya ulicza</td>\n",
       "      <td>001</td>\n",
       "      <td>NaN</td>\n",
       "      <td>0619;0620;0621</td>\n",
       "      <td>77000000000146800</td>\n",
       "    </tr>\n",
       "    <tr>\n",
       "      <th>408</th>\n",
       "      <td>012970</td>\n",
       "      <td>Кутузовский проспект</td>\n",
       "      <td>58481479</td>\n",
       "      <td>Кутузовский проспект</td>\n",
       "      <td>Kutuzovskij prospekt</td>\n",
       "      <td>010</td>\n",
       "      <td>NaN</td>\n",
       "      <td>0805;0819</td>\n",
       "      <td>77000000000720000</td>\n",
       "    </tr>\n",
       "    <tr>\n",
       "      <th>443</th>\n",
       "      <td>013320</td>\n",
       "      <td>Ленинградский проспект</td>\n",
       "      <td>58481514</td>\n",
       "      <td>Ленинградский проспект</td>\n",
       "      <td>Leningradskij prospekt</td>\n",
       "      <td>010</td>\n",
       "      <td>NaN</td>\n",
       "      <td>0201;0202;0214;0217</td>\n",
       "      <td>77000000000168500</td>\n",
       "    </tr>\n",
       "    <tr>\n",
       "      <th>449</th>\n",
       "      <td>013380</td>\n",
       "      <td>Ленинский проспект</td>\n",
       "      <td>58481520</td>\n",
       "      <td>Ленинский проспект</td>\n",
       "      <td>Leninskij prospekt</td>\n",
       "      <td>010</td>\n",
       "      <td>NaN</td>\n",
       "      <td>0110;0610;0702;0706;0707;0709;0814;0817</td>\n",
       "      <td>77000000000168900</td>\n",
       "    </tr>\n",
       "    <tr>\n",
       "      <th>689</th>\n",
       "      <td>015820</td>\n",
       "      <td>проспект Мира</td>\n",
       "      <td>58481760</td>\n",
       "      <td>проспект Мира</td>\n",
       "      <td>prospekt Mira</td>\n",
       "      <td>010</td>\n",
       "      <td>NaN</td>\n",
       "      <td>0105;0301;0309;0310;0312;0313;0317</td>\n",
       "      <td>77000000000185600</td>\n",
       "    </tr>\n",
       "    <tr>\n",
       "      <th>1389</th>\n",
       "      <td>022180</td>\n",
       "      <td>Профсоюзная улица</td>\n",
       "      <td>58482469</td>\n",
       "      <td>Профсоюзная улица</td>\n",
       "      <td>Profsoyuznaya ulicza</td>\n",
       "      <td>001</td>\n",
       "      <td>NaN</td>\n",
       "      <td>0701;0704;0707;0709;0710;0712</td>\n",
       "      <td>77000000000239200</td>\n",
       "    </tr>\n",
       "    <tr>\n",
       "      <th>4368</th>\n",
       "      <td>003180</td>\n",
       "      <td>проспект Вернадского</td>\n",
       "      <td>58485499</td>\n",
       "      <td>проспект Вернадского</td>\n",
       "      <td>prospekt Vernadskogo</td>\n",
       "      <td>010</td>\n",
       "      <td>NaN</td>\n",
       "      <td>0702;0706;0814;0815;0817</td>\n",
       "      <td>77000000000095300</td>\n",
       "    </tr>\n",
       "  </tbody>\n",
       "</table>\n",
       "</div>"
      ],
      "text/plain": [
       "     UM_CODE                UM_NAMEF global_id                UM_NAMES  \\\n",
       "113   010040    Кировоградская улица  58481183    Кировоградская улица   \n",
       "408   012970    Кутузовский проспект  58481479    Кутузовский проспект   \n",
       "443   013320  Ленинградский проспект  58481514  Ленинградский проспект   \n",
       "449   013380      Ленинский проспект  58481520      Ленинский проспект   \n",
       "689   015820           проспект Мира  58481760           проспект Мира   \n",
       "1389  022180       Профсоюзная улица  58482469       Профсоюзная улица   \n",
       "4368  003180    проспект Вернадского  58485499    проспект Вернадского   \n",
       "\n",
       "                    UM_TRANS UM_TYPE UM_TM  \\\n",
       "113   Kirovogradskaya ulicza     001   NaN   \n",
       "408     Kutuzovskij prospekt     010   NaN   \n",
       "443   Leningradskij prospekt     010   NaN   \n",
       "449       Leninskij prospekt     010   NaN   \n",
       "689            prospekt Mira     010   NaN   \n",
       "1389    Profsoyuznaya ulicza     001   NaN   \n",
       "4368    prospekt Vernadskogo     010   NaN   \n",
       "\n",
       "                                        UM_TE           UM_KLADR  \n",
       "113                            0619;0620;0621  77000000000146800  \n",
       "408                                 0805;0819  77000000000720000  \n",
       "443                       0201;0202;0214;0217  77000000000168500  \n",
       "449   0110;0610;0702;0706;0707;0709;0814;0817  77000000000168900  \n",
       "689        0105;0301;0309;0310;0312;0313;0317  77000000000185600  \n",
       "1389            0701;0704;0707;0709;0710;0712  77000000000239200  \n",
       "4368                 0702;0706;0814;0815;0817  77000000000095300  "
      ]
     },
     "execution_count": 33,
     "metadata": {},
     "output_type": "execute_result"
    }
   ],
   "source": [
    "# ТОП 10 улиц (с указанием районов) на которых больше всего заведений\n",
    "top10_streets_list = top10['street'].tolist()\n",
    "top10_street = streets.query('UM_NAMES in @top10_streets_list')\n",
    "top10_street"
   ]
  },
  {
   "cell_type": "markdown",
   "metadata": {},
   "source": [
    "Список улиц на которых по 1 заведению"
   ]
  },
  {
   "cell_type": "code",
   "execution_count": 34,
   "metadata": {},
   "outputs": [
    {
     "data": {
      "text/html": [
       "<div>\n",
       "<style scoped>\n",
       "    .dataframe tbody tr th:only-of-type {\n",
       "        vertical-align: middle;\n",
       "    }\n",
       "\n",
       "    .dataframe tbody tr th {\n",
       "        vertical-align: top;\n",
       "    }\n",
       "\n",
       "    .dataframe thead th {\n",
       "        text-align: right;\n",
       "    }\n",
       "</style>\n",
       "<table border=\"1\" class=\"dataframe\">\n",
       "  <thead>\n",
       "    <tr style=\"text-align: right;\">\n",
       "      <th></th>\n",
       "      <th>UM_CODE</th>\n",
       "      <th>UM_NAMEF</th>\n",
       "      <th>global_id</th>\n",
       "      <th>UM_NAMES</th>\n",
       "      <th>UM_TRANS</th>\n",
       "      <th>UM_TYPE</th>\n",
       "      <th>UM_TM</th>\n",
       "      <th>UM_TE</th>\n",
       "      <th>UM_KLADR</th>\n",
       "    </tr>\n",
       "  </thead>\n",
       "  <tbody>\n",
       "    <tr>\n",
       "      <th>13</th>\n",
       "      <td>009000</td>\n",
       "      <td>4-я Кабельная улица</td>\n",
       "      <td>58481078</td>\n",
       "      <td>4-я Кабельная улица</td>\n",
       "      <td>Chetvyortaya Kabel`naya ulicza</td>\n",
       "      <td>001</td>\n",
       "      <td>NaN</td>\n",
       "      <td>0507</td>\n",
       "      <td>77000000000024600</td>\n",
       "    </tr>\n",
       "    <tr>\n",
       "      <th>37</th>\n",
       "      <td>009210</td>\n",
       "      <td>Калибровская улица</td>\n",
       "      <td>58481103</td>\n",
       "      <td>Калибровская улица</td>\n",
       "      <td>Kalibrovskaya ulicza</td>\n",
       "      <td>001</td>\n",
       "      <td>NaN</td>\n",
       "      <td>0310</td>\n",
       "      <td>77000000000141700</td>\n",
       "    </tr>\n",
       "    <tr>\n",
       "      <th>60</th>\n",
       "      <td>009460</td>\n",
       "      <td>улица Капотня</td>\n",
       "      <td>58481127</td>\n",
       "      <td>улица Капотня</td>\n",
       "      <td>ulicza Kapotnya</td>\n",
       "      <td>001</td>\n",
       "      <td>NaN</td>\n",
       "      <td>0505</td>\n",
       "      <td>77000000000733300</td>\n",
       "    </tr>\n",
       "    <tr>\n",
       "      <th>66</th>\n",
       "      <td>009530</td>\n",
       "      <td>1-я Карачаровская улица</td>\n",
       "      <td>58481134</td>\n",
       "      <td>1-я Карачаровская улица</td>\n",
       "      <td>Pervaya Karacharovskaya ulicza</td>\n",
       "      <td>001</td>\n",
       "      <td>NaN</td>\n",
       "      <td>0510</td>\n",
       "      <td>77000000000002200</td>\n",
       "    </tr>\n",
       "    <tr>\n",
       "      <th>87</th>\n",
       "      <td>009725</td>\n",
       "      <td>Каскадная улица</td>\n",
       "      <td>58481155</td>\n",
       "      <td>Каскадная улица</td>\n",
       "      <td>Kaskadnaya ulicza</td>\n",
       "      <td>001</td>\n",
       "      <td>NaN</td>\n",
       "      <td>0409</td>\n",
       "      <td>77000000000039800</td>\n",
       "    </tr>\n",
       "    <tr>\n",
       "      <th>99</th>\n",
       "      <td>009880</td>\n",
       "      <td>2-я Квесисская улица</td>\n",
       "      <td>58481169</td>\n",
       "      <td>2-я Квесисская улица</td>\n",
       "      <td>Vtoraya Kvesisskaya ulicza</td>\n",
       "      <td>001</td>\n",
       "      <td>NaN</td>\n",
       "      <td>0213</td>\n",
       "      <td>77000000000145700</td>\n",
       "    </tr>\n",
       "    <tr>\n",
       "      <th>118</th>\n",
       "      <td>010090</td>\n",
       "      <td>Кирпичная улица</td>\n",
       "      <td>58481188</td>\n",
       "      <td>Кирпичная улица</td>\n",
       "      <td>Kirpichnaya ulicza</td>\n",
       "      <td>001</td>\n",
       "      <td>NaN</td>\n",
       "      <td>0417</td>\n",
       "      <td>77000000000147100</td>\n",
       "    </tr>\n",
       "    <tr>\n",
       "      <th>131</th>\n",
       "      <td>010240</td>\n",
       "      <td>улица Клочкова</td>\n",
       "      <td>58481201</td>\n",
       "      <td>улица Клочкова</td>\n",
       "      <td>ulicza Klochkova</td>\n",
       "      <td>001</td>\n",
       "      <td>NaN</td>\n",
       "      <td>0819</td>\n",
       "      <td>77000000000148400</td>\n",
       "    </tr>\n",
       "  </tbody>\n",
       "</table>\n",
       "</div>"
      ],
      "text/plain": [
       "    UM_CODE                 UM_NAMEF global_id                 UM_NAMES  \\\n",
       "13   009000      4-я Кабельная улица  58481078      4-я Кабельная улица   \n",
       "37   009210       Калибровская улица  58481103       Калибровская улица   \n",
       "60   009460            улица Капотня  58481127            улица Капотня   \n",
       "66   009530  1-я Карачаровская улица  58481134  1-я Карачаровская улица   \n",
       "87   009725          Каскадная улица  58481155          Каскадная улица   \n",
       "99   009880     2-я Квесисская улица  58481169     2-я Квесисская улица   \n",
       "118  010090          Кирпичная улица  58481188          Кирпичная улица   \n",
       "131  010240           улица Клочкова  58481201           улица Клочкова   \n",
       "\n",
       "                           UM_TRANS UM_TYPE UM_TM UM_TE           UM_KLADR  \n",
       "13   Chetvyortaya Kabel`naya ulicza     001   NaN  0507  77000000000024600  \n",
       "37             Kalibrovskaya ulicza     001   NaN  0310  77000000000141700  \n",
       "60                  ulicza Kapotnya     001   NaN  0505  77000000000733300  \n",
       "66   Pervaya Karacharovskaya ulicza     001   NaN  0510  77000000000002200  \n",
       "87                Kaskadnaya ulicza     001   NaN  0409  77000000000039800  \n",
       "99       Vtoraya Kvesisskaya ulicza     001   NaN  0213  77000000000145700  \n",
       "118              Kirpichnaya ulicza     001   NaN  0417  77000000000147100  \n",
       "131                ulicza Klochkova     001   NaN  0819  77000000000148400  "
      ]
     },
     "execution_count": 34,
     "metadata": {},
     "output_type": "execute_result"
    }
   ],
   "source": [
    "# ТОП  улиц (с кодом района) на которых 1 заведение\n",
    "loss_streets_list = rest_1['street'].tolist()\n",
    "loss_street = streets.query('UM_NAMES in @loss_streets_list')  \n",
    "loss_street[:8]"
   ]
  },
  {
   "cell_type": "markdown",
   "metadata": {},
   "source": [
    "- Топ 10 районов где на улице  находится 1 заведение питания\n",
    "- указаны количество таких улиц в районе"
   ]
  },
  {
   "cell_type": "markdown",
   "metadata": {},
   "source": [
    "loss_street \\\n",
    "        .groupby('UM_TE',as_index=False)\\\n",
    "        .agg({'global_id':'count'}) \\\n",
    "        .sort_values(by='global_id', ascending=True)\\\n",
    "        .head(10)"
   ]
  },
  {
   "cell_type": "code",
   "execution_count": 35,
   "metadata": {},
   "outputs": [
    {
     "data": {
      "text/plain": [
       "[1207, 1105, 1209, 1111, 711, 813, 1204, 809, 1206, 307]"
      ]
     },
     "execution_count": 35,
     "metadata": {},
     "output_type": "execute_result"
    }
   ],
   "source": [
    "# Список ТОП-10 районов, на которых улицы с 1 заведением\n",
    "loss_street_region_list = loss_street \\\n",
    "        .groupby('UM_TE',as_index=False)\\\n",
    "        .agg({'global_id':'count'}) \\\n",
    "        .sort_values(by='global_id', ascending=False)\\\n",
    "        .head(10)\\\n",
    "        .reset_index()['UM_TE'].tolist()\n",
    "loss_street_region_list = list(map(int, loss_street_region_list))\n",
    "loss_street_region_list"
   ]
  },
  {
   "cell_type": "code",
   "execution_count": 36,
   "metadata": {},
   "outputs": [],
   "source": [
    "#losss_street_gr.global_id.sum()\n",
    "#loss_street.UM_TE.count()"
   ]
  },
  {
   "cell_type": "markdown",
   "metadata": {},
   "source": [
    "**Выделим название районов**\n",
    "\n"
   ]
  },
  {
   "cell_type": "code",
   "execution_count": 37,
   "metadata": {},
   "outputs": [
    {
     "data": {
      "text/html": [
       "<div>\n",
       "<style scoped>\n",
       "    .dataframe tbody tr th:only-of-type {\n",
       "        vertical-align: middle;\n",
       "    }\n",
       "\n",
       "    .dataframe tbody tr th {\n",
       "        vertical-align: top;\n",
       "    }\n",
       "\n",
       "    .dataframe thead th {\n",
       "        text-align: right;\n",
       "    }\n",
       "</style>\n",
       "<table border=\"1\" class=\"dataframe\">\n",
       "  <thead>\n",
       "    <tr style=\"text-align: right;\">\n",
       "      <th></th>\n",
       "      <th>Kod</th>\n",
       "      <th>Name</th>\n",
       "      <th>global_id</th>\n",
       "      <th>Latin_name</th>\n",
       "      <th>Type</th>\n",
       "      <th>Kod_okato</th>\n",
       "    </tr>\n",
       "  </thead>\n",
       "  <tbody>\n",
       "    <tr>\n",
       "      <th>0</th>\n",
       "      <td>100</td>\n",
       "      <td>Центральный административный округ</td>\n",
       "      <td>58703558</td>\n",
       "      <td>Czentral`ny'j administrativny'j okrug</td>\n",
       "      <td>2</td>\n",
       "      <td>45286000</td>\n",
       "    </tr>\n",
       "    <tr>\n",
       "      <th>1</th>\n",
       "      <td>101</td>\n",
       "      <td>район Арбат</td>\n",
       "      <td>58703559</td>\n",
       "      <td>rajon Arbat</td>\n",
       "      <td>3</td>\n",
       "      <td>45286552</td>\n",
       "    </tr>\n",
       "    <tr>\n",
       "      <th>2</th>\n",
       "      <td>102</td>\n",
       "      <td>Басманный район</td>\n",
       "      <td>58703560</td>\n",
       "      <td>Basmanny'j rajon</td>\n",
       "      <td>3</td>\n",
       "      <td>45286555</td>\n",
       "    </tr>\n",
       "    <tr>\n",
       "      <th>3</th>\n",
       "      <td>103</td>\n",
       "      <td>район Замоскворечье</td>\n",
       "      <td>58703561</td>\n",
       "      <td>rajon Zamoskvorech`e</td>\n",
       "      <td>3</td>\n",
       "      <td>45286560</td>\n",
       "    </tr>\n",
       "    <tr>\n",
       "      <th>...</th>\n",
       "      <td>...</td>\n",
       "      <td>...</td>\n",
       "      <td>...</td>\n",
       "      <td>...</td>\n",
       "      <td>...</td>\n",
       "      <td>...</td>\n",
       "    </tr>\n",
       "    <tr>\n",
       "      <th>154</th>\n",
       "      <td>1207</td>\n",
       "      <td>поселение Первомайское</td>\n",
       "      <td>58703713</td>\n",
       "      <td>poselenie Pervomajskoe</td>\n",
       "      <td>4</td>\n",
       "      <td>45298572</td>\n",
       "    </tr>\n",
       "    <tr>\n",
       "      <th>155</th>\n",
       "      <td>1208</td>\n",
       "      <td>поселение Роговское</td>\n",
       "      <td>58703714</td>\n",
       "      <td>poselenie Rogovskoe</td>\n",
       "      <td>4</td>\n",
       "      <td>45298575</td>\n",
       "    </tr>\n",
       "    <tr>\n",
       "      <th>156</th>\n",
       "      <td>1209</td>\n",
       "      <td>поселение Троицк</td>\n",
       "      <td>58703715</td>\n",
       "      <td>poselenie Troiczk</td>\n",
       "      <td>4</td>\n",
       "      <td>45298578</td>\n",
       "    </tr>\n",
       "    <tr>\n",
       "      <th>157</th>\n",
       "      <td>1210</td>\n",
       "      <td>поселение Щаповское</td>\n",
       "      <td>58703716</td>\n",
       "      <td>poselenie Shhapovskoe</td>\n",
       "      <td>4</td>\n",
       "      <td>45298583</td>\n",
       "    </tr>\n",
       "  </tbody>\n",
       "</table>\n",
       "<p>158 rows × 6 columns</p>\n",
       "</div>"
      ],
      "text/plain": [
       "      Kod                                Name  global_id  \\\n",
       "0     100  Центральный административный округ   58703558   \n",
       "1     101                         район Арбат   58703559   \n",
       "2     102                     Басманный район   58703560   \n",
       "3     103                 район Замоскворечье   58703561   \n",
       "..    ...                                 ...        ...   \n",
       "154  1207              поселение Первомайское   58703713   \n",
       "155  1208                 поселение Роговское   58703714   \n",
       "156  1209                    поселение Троицк   58703715   \n",
       "157  1210                 поселение Щаповское   58703716   \n",
       "\n",
       "                                Latin_name  Type  Kod_okato  \n",
       "0    Czentral`ny'j administrativny'j okrug     2   45286000  \n",
       "1                              rajon Arbat     3   45286552  \n",
       "2                         Basmanny'j rajon     3   45286555  \n",
       "3                     rajon Zamoskvorech`e     3   45286560  \n",
       "..                                     ...   ...        ...  \n",
       "154                 poselenie Pervomajskoe     4   45298572  \n",
       "155                    poselenie Rogovskoe     4   45298575  \n",
       "156                      poselenie Troiczk     4   45298578  \n",
       "157                  poselenie Shhapovskoe     4   45298583  \n",
       "\n",
       "[158 rows x 6 columns]"
      ]
     },
     "execution_count": 37,
     "metadata": {},
     "output_type": "execute_result"
    }
   ],
   "source": [
    "from io import BytesIO\n",
    "import requests\n",
    "spreadsheet_id = \"1MSvKjSfhO3LTKRcLUSEpfpFsHkGF_9o7rmnPbEmKRwQ\"\n",
    "file_name = 'https://docs.google.com/spreadsheets/d/{}/export?format=csv'.format(spreadsheet_id)\n",
    "r = requests.get(file_name)\n",
    "region = pd.read_csv(BytesIO(r.content))\n",
    "region.sort_values(by='Kod', ascending=True, inplace=True)\n",
    "region"
   ]
  },
  {
   "cell_type": "code",
   "execution_count": 38,
   "metadata": {},
   "outputs": [
    {
     "name": "stdout",
     "output_type": "stream",
     "text": [
      "<class 'pandas.core.frame.DataFrame'>\n",
      "Int64Index: 158 entries, 0 to 157\n",
      "Data columns (total 6 columns):\n",
      " #   Column      Non-Null Count  Dtype \n",
      "---  ------      --------------  ----- \n",
      " 0   Kod         158 non-null    int64 \n",
      " 1   Name        158 non-null    object\n",
      " 2   global_id   158 non-null    int64 \n",
      " 3   Latin_name  158 non-null    object\n",
      " 4   Type        158 non-null    int64 \n",
      " 5   Kod_okato   158 non-null    int64 \n",
      "dtypes: int64(4), object(2)\n",
      "memory usage: 8.6+ KB\n"
     ]
    }
   ],
   "source": [
    "region.info()"
   ]
  },
  {
   "cell_type": "markdown",
   "metadata": {},
   "source": [
    "В таблице улиц и районов типы данных для номера района разные"
   ]
  },
  {
   "cell_type": "code",
   "execution_count": 39,
   "metadata": {},
   "outputs": [
    {
     "data": {
      "text/html": [
       "<div>\n",
       "<style scoped>\n",
       "    .dataframe tbody tr th:only-of-type {\n",
       "        vertical-align: middle;\n",
       "    }\n",
       "\n",
       "    .dataframe tbody tr th {\n",
       "        vertical-align: top;\n",
       "    }\n",
       "\n",
       "    .dataframe thead th {\n",
       "        text-align: right;\n",
       "    }\n",
       "</style>\n",
       "<table border=\"1\" class=\"dataframe\">\n",
       "  <thead>\n",
       "    <tr style=\"text-align: right;\">\n",
       "      <th></th>\n",
       "      <th>Kod</th>\n",
       "      <th>Name</th>\n",
       "      <th>global_id</th>\n",
       "      <th>Latin_name</th>\n",
       "      <th>Type</th>\n",
       "      <th>Kod_okato</th>\n",
       "    </tr>\n",
       "  </thead>\n",
       "  <tbody>\n",
       "    <tr>\n",
       "      <th>35</th>\n",
       "      <td>307</td>\n",
       "      <td>Лосиноостровский район</td>\n",
       "      <td>58703593</td>\n",
       "      <td>Losinoostrovskij rajon</td>\n",
       "      <td>3</td>\n",
       "      <td>45280565</td>\n",
       "    </tr>\n",
       "    <tr>\n",
       "      <th>104</th>\n",
       "      <td>711</td>\n",
       "      <td>район Южное Бутово</td>\n",
       "      <td>58703663</td>\n",
       "      <td>rajon Yuzhnoe Butovo</td>\n",
       "      <td>3</td>\n",
       "      <td>45293594</td>\n",
       "    </tr>\n",
       "    <tr>\n",
       "      <th>110</th>\n",
       "      <td>809</td>\n",
       "      <td>Можайский район</td>\n",
       "      <td>58703669</td>\n",
       "      <td>Mozhajskij rajon</td>\n",
       "      <td>3</td>\n",
       "      <td>45268569</td>\n",
       "    </tr>\n",
       "    <tr>\n",
       "      <th>112</th>\n",
       "      <td>813</td>\n",
       "      <td>район Внуково</td>\n",
       "      <td>58703671</td>\n",
       "      <td>rajon Vnukovo</td>\n",
       "      <td>3</td>\n",
       "      <td>45268552</td>\n",
       "    </tr>\n",
       "    <tr>\n",
       "      <th>140</th>\n",
       "      <td>1105</td>\n",
       "      <td>поселение Марушкинское</td>\n",
       "      <td>58703699</td>\n",
       "      <td>poselenie Marushkinskoe</td>\n",
       "      <td>4</td>\n",
       "      <td>45297562</td>\n",
       "    </tr>\n",
       "  </tbody>\n",
       "</table>\n",
       "</div>"
      ],
      "text/plain": [
       "      Kod                    Name  global_id               Latin_name  Type  \\\n",
       "35    307  Лосиноостровский район   58703593   Losinoostrovskij rajon     3   \n",
       "104   711      район Южное Бутово   58703663     rajon Yuzhnoe Butovo     3   \n",
       "110   809         Можайский район   58703669         Mozhajskij rajon     3   \n",
       "112   813           район Внуково   58703671            rajon Vnukovo     3   \n",
       "140  1105  поселение Марушкинское   58703699  poselenie Marushkinskoe     4   \n",
       "\n",
       "     Kod_okato  \n",
       "35    45280565  \n",
       "104   45293594  \n",
       "110   45268569  \n",
       "112   45268552  \n",
       "140   45297562  "
      ]
     },
     "execution_count": 39,
     "metadata": {},
     "output_type": "execute_result"
    }
   ],
   "source": [
    "#losss_street_gr = losss_street_gr.astype({'UM_TE': object}, errors = 'ignore')\n",
    "#\n",
    "region = region.astype({'Kod': object})\n",
    "loss_street_region = region.query('Kod in @loss_street_region_list')\n",
    "loss_street_region[:5]"
   ]
  },
  {
   "cell_type": "markdown",
   "metadata": {},
   "source": [
    "Из всех районов, интересные Можайский, Внуково, Южное Бутово, Лосиноостровский. Районы расположены далеко от центра, возможен маленький поток клиентов, плотность заведения на улицу в этих районах самая маленькая возможно по этой причине. "
   ]
  },
  {
   "cell_type": "code",
   "execution_count": null,
   "metadata": {},
   "outputs": [],
   "source": []
  },
  {
   "cell_type": "markdown",
   "metadata": {},
   "source": [
    "## Распределение количества посадочных мест заведений для районов с высокой плотностью точек питания\n",
    "<a id=\"step9\"></a>\n",
    "[*Назад к оглавлению*](#Оглавление)"
   ]
  },
  {
   "cell_type": "code",
   "execution_count": 40,
   "metadata": {},
   "outputs": [],
   "source": [
    "# сисок ТОП-10 улиц по числу точек питания\n",
    "top_street = rest \\\n",
    "        .groupby('street', as_index=False)\\\n",
    "        .agg({'id':'count'}) \\\n",
    "        .sort_values(by='id', ascending=False)\\\n",
    "        .head(10).street.to_list()\n",
    "\n",
    "# срез по ТОП-10 улиц \n",
    "rest_top = rest\\\n",
    "    .query('street in @top_street')\\\n",
    "    .groupby('object_type', as_index=False)\\\n",
    "    .agg({'number':'mean'})\\\n",
    "    .sort_values(by='number', ascending=False)"
   ]
  },
  {
   "cell_type": "code",
   "execution_count": 41,
   "metadata": {},
   "outputs": [
    {
     "data": {
      "image/png": "[encoded data removed]",
      "text/plain": [
       "<Figure size 675x450 with 1 Axes>"
      ]
     },
     "metadata": {
      "needs_background": "light"
     },
     "output_type": "display_data"
    }
   ],
   "source": [
    "# График\n",
    "sns.barplot(x = 'object_type', y = 'number', data = rest_top, ci = 0)\\\n",
    "        .set(title='Вместимость зала объектов питания из ТОП списка улиц'\\\n",
    "             ,xlabel=''\\\n",
    "             ,ylabel='Вместимость зала');\n",
    "\n",
    "plt.xticks(rotation=345, ha='left');\n",
    "plt.tight_layout();\n",
    "plt.savefig(\"Rest_number_place_top10.png\",format='png',dpi=150);"
   ]
  },
  {
   "cell_type": "markdown",
   "metadata": {},
   "source": [
    "Среднее число посадочных мест в зале для заведений из списка ТОП улиц существенно отличается в большую сторону, чем от общего среднего распределения. Между тем по типу точки питания произошли изменения, рейтинг возглавляет столовые, ресторвны и бары подняди на 2 т 3 строку сотвественно. Это можно объяснить тем, что местоположение точек совпадает с центрами деловой активности"
   ]
  },
  {
   "cell_type": "markdown",
   "metadata": {},
   "source": [
    "**Сколько заведений на топовых улицах по отношению ко всем?**"
   ]
  },
  {
   "cell_type": "code",
   "execution_count": 42,
   "metadata": {},
   "outputs": [
    {
     "name": "stdout",
     "output_type": "stream",
     "text": [
      "число объектов на ТОП-10 улицах: 1503\n",
      "число одиночных объектов: 551\n",
      "число объектов: 15366\n"
     ]
    }
   ],
   "source": [
    "# ТОП\n",
    "print(f\"число объектов на ТОП-10 улицах: {rest.query('street in @top_street').object_name.count()}\")\n",
    "# одинокие объекты на маденьких улицах\n",
    "print(f\"число одиночных объектов: {rest_1.street.count()}\")\n",
    "# Все объекты\n",
    "print(f\"число объектов: {rest.object_name.count()}\")"
   ]
  },
  {
   "cell_type": "markdown",
   "metadata": {},
   "source": [
    "# Вывод\n",
    "<a id=\"resume\"></a>\n",
    "[*Назад к оглавлению*](#Оглавление)"
   ]
  },
  {
   "cell_type": "markdown",
   "metadata": {},
   "source": [
    "* Стоит порекомендовать формат заведения кафе\n",
    "* Среди сетевых точек питания преобладают небольшие заведения с числом мест около 50\n",
    "* Первое заведение стоит открывать не в центре. \n",
    "* В центре отсутствет свободный подъезд, поток клиентов не постоянный, но вероятно аренда будет более высокой, а клпиент не поддержит концепт-кафе с роботами\n",
    "* В центре поток клиентов отличается сезонностью, возможно следующий объект открыть в центре для туристов в формате кафетерия\n"
   ]
  },
  {
   "cell_type": "markdown",
   "metadata": {},
   "source": [
    "<p><a href=\"https://yadi.sk/i/W_YGrE3_jk9D5w\">Ссылка на презентацию</a> </p>"
   ]
  }
 ],
 "metadata": {
  "kernelspec": {
   "display_name": "Python 3",
   "language": "python",
   "name": "python3"
  },
  "language_info": {
   "codemirror_mode": {
    "name": "ipython",
    "version": 3
   },
   "file_extension": ".py",
   "mimetype": "text/x-python",
   "name": "python",
   "nbconvert_exporter": "python",
   "pygments_lexer": "ipython3",
   "version": "3.7.9"
  }
 },
 "nbformat": 4,
 "nbformat_minor": 4
}
